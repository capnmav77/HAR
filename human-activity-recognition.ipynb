{
 "cells": [
  {
   "cell_type": "code",
   "execution_count": 1,
   "id": "33d71b48",
   "metadata": {
    "_cell_guid": "b1076dfc-b9ad-4769-8c92-a6c4dae69d19",
    "_uuid": "8f2839f25d086af736a60e9eeb907d3b93b6e0e5",
    "execution": {
     "iopub.execute_input": "2023-06-11T19:13:53.839968Z",
     "iopub.status.busy": "2023-06-11T19:13:53.839570Z",
     "iopub.status.idle": "2023-06-11T19:13:53.862066Z",
     "shell.execute_reply": "2023-06-11T19:13:53.860494Z"
    },
    "papermill": {
     "duration": 0.038147,
     "end_time": "2023-06-11T19:13:53.864838",
     "exception": false,
     "start_time": "2023-06-11T19:13:53.826691",
     "status": "completed"
    },
    "tags": []
   },
   "outputs": [],
   "source": [
    "# This Python 3 environment comes with many helpful analytics libraries installed\n",
    "# It is defined by the kaggle/python Docker image: https://github.com/kaggle/docker-python\n",
    "# For example, here's several helpful packages to load\n",
    "\n",
    "import numpy as np # linear algebra\n",
    "import pandas as pd # data processing, CSV file I/O (e.g. pd.read_csv)\n",
    "\n",
    "# Input data files are available in the read-only \"../input/\" directory\n",
    "# For example, running this (by clicking run or pressing Shift+Enter) will list all files under the input directory\n",
    "\n",
    "import os\n",
    "for dirname, _, filenames in os.walk('/kaggle/input'):\n",
    "    for filename in filenames:\n",
    "        print(os.path.join(dirname, filename))\n",
    "\n",
    "# You can write up to 20GB to the current directory (/kaggle/working/) that gets preserved as output when you create a version using \"Save & Run All\" \n",
    "# You can also write temporary files to /kaggle/temp/, but they won't be saved outside of the current session"
   ]
  },
  {
   "cell_type": "code",
   "execution_count": 2,
   "id": "ffb8bbe5",
   "metadata": {
    "execution": {
     "iopub.execute_input": "2023-06-11T19:13:53.887307Z",
     "iopub.status.busy": "2023-06-11T19:13:53.886915Z",
     "iopub.status.idle": "2023-06-11T19:13:55.646503Z",
     "shell.execute_reply": "2023-06-11T19:13:55.644963Z"
    },
    "papermill": {
     "duration": 1.774451,
     "end_time": "2023-06-11T19:13:55.649870",
     "exception": false,
     "start_time": "2023-06-11T19:13:53.875419",
     "status": "completed"
    },
    "tags": []
   },
   "outputs": [],
   "source": [
    "#imports\n",
    "import matplotlib.pyplot as plt\n",
    "import seaborn as sns\n",
    "import warnings\n",
    "warnings.filterwarnings('ignore')"
   ]
  },
  {
   "cell_type": "code",
   "execution_count": 3,
   "id": "2505c696",
   "metadata": {
    "execution": {
     "iopub.execute_input": "2023-06-11T19:13:55.675234Z",
     "iopub.status.busy": "2023-06-11T19:13:55.674787Z",
     "iopub.status.idle": "2023-06-11T19:13:57.307877Z",
     "shell.execute_reply": "2023-06-11T19:13:57.306075Z"
    },
    "papermill": {
     "duration": 1.649289,
     "end_time": "2023-06-11T19:13:57.311231",
     "exception": false,
     "start_time": "2023-06-11T19:13:55.661942",
     "status": "completed"
    },
    "tags": []
   },
   "outputs": [],
   "source": [
    "data = pd.read_csv(\"train.csv\")"
   ]
  },
  {
   "attachments": {},
   "cell_type": "markdown",
   "id": "e4fb88cf",
   "metadata": {
    "papermill": {
     "duration": 0.009925,
     "end_time": "2023-06-11T19:13:57.334480",
     "exception": false,
     "start_time": "2023-06-11T19:13:57.324555",
     "status": "completed"
    },
    "tags": []
   },
   "source": [
    "# Exploratory Data Analysis"
   ]
  },
  {
   "cell_type": "code",
   "execution_count": 4,
   "id": "2761d475",
   "metadata": {
    "execution": {
     "iopub.execute_input": "2023-06-11T19:13:57.356655Z",
     "iopub.status.busy": "2023-06-11T19:13:57.356220Z",
     "iopub.status.idle": "2023-06-11T19:13:59.138742Z",
     "shell.execute_reply": "2023-06-11T19:13:59.136830Z"
    },
    "papermill": {
     "duration": 1.796835,
     "end_time": "2023-06-11T19:13:59.141630",
     "exception": false,
     "start_time": "2023-06-11T19:13:57.344795",
     "status": "completed"
    },
    "tags": []
   },
   "outputs": [
    {
     "name": "stdout",
     "output_type": "stream",
     "text": [
      "Shape of train data is: (7352, 563)\n",
      "Shape of test data is: (2947, 563)\n"
     ]
    }
   ],
   "source": [
    "train_data = pd.read_csv('train.csv')\n",
    "test_data = pd.read_csv('test.csv')\n",
    "\n",
    "print(f'Shape of train data is: {train_data.shape}\\nShape of test data is: {test_data.shape}')"
   ]
  },
  {
   "cell_type": "code",
   "execution_count": 5,
   "id": "a52b21f8",
   "metadata": {
    "execution": {
     "iopub.execute_input": "2023-06-11T19:13:59.165822Z",
     "iopub.status.busy": "2023-06-11T19:13:59.165371Z",
     "iopub.status.idle": "2023-06-11T19:13:59.226657Z",
     "shell.execute_reply": "2023-06-11T19:13:59.225111Z"
    },
    "papermill": {
     "duration": 0.077097,
     "end_time": "2023-06-11T19:13:59.230056",
     "exception": false,
     "start_time": "2023-06-11T19:13:59.152959",
     "status": "completed"
    },
    "tags": []
   },
   "outputs": [
    {
     "data": {
      "text/html": [
       "<div>\n",
       "<style scoped>\n",
       "    .dataframe tbody tr th:only-of-type {\n",
       "        vertical-align: middle;\n",
       "    }\n",
       "\n",
       "    .dataframe tbody tr th {\n",
       "        vertical-align: top;\n",
       "    }\n",
       "\n",
       "    .dataframe thead th {\n",
       "        text-align: right;\n",
       "    }\n",
       "</style>\n",
       "<table border=\"1\" class=\"dataframe\">\n",
       "  <thead>\n",
       "    <tr style=\"text-align: right;\">\n",
       "      <th></th>\n",
       "      <th>tBodyAcc-mean()-X</th>\n",
       "      <th>tBodyAcc-mean()-Y</th>\n",
       "      <th>tBodyAcc-mean()-Z</th>\n",
       "      <th>tBodyAcc-std()-X</th>\n",
       "      <th>tBodyAcc-std()-Y</th>\n",
       "      <th>tBodyAcc-std()-Z</th>\n",
       "      <th>tBodyAcc-mad()-X</th>\n",
       "      <th>tBodyAcc-mad()-Y</th>\n",
       "      <th>tBodyAcc-mad()-Z</th>\n",
       "      <th>tBodyAcc-max()-X</th>\n",
       "      <th>...</th>\n",
       "      <th>fBodyBodyGyroJerkMag-kurtosis()</th>\n",
       "      <th>angle(tBodyAccMean,gravity)</th>\n",
       "      <th>angle(tBodyAccJerkMean),gravityMean)</th>\n",
       "      <th>angle(tBodyGyroMean,gravityMean)</th>\n",
       "      <th>angle(tBodyGyroJerkMean,gravityMean)</th>\n",
       "      <th>angle(X,gravityMean)</th>\n",
       "      <th>angle(Y,gravityMean)</th>\n",
       "      <th>angle(Z,gravityMean)</th>\n",
       "      <th>subject</th>\n",
       "      <th>Activity</th>\n",
       "    </tr>\n",
       "  </thead>\n",
       "  <tbody>\n",
       "    <tr>\n",
       "      <th>0</th>\n",
       "      <td>0.288585</td>\n",
       "      <td>-0.020294</td>\n",
       "      <td>-0.132905</td>\n",
       "      <td>-0.995279</td>\n",
       "      <td>-0.983111</td>\n",
       "      <td>-0.913526</td>\n",
       "      <td>-0.995112</td>\n",
       "      <td>-0.983185</td>\n",
       "      <td>-0.923527</td>\n",
       "      <td>-0.934724</td>\n",
       "      <td>...</td>\n",
       "      <td>-0.710304</td>\n",
       "      <td>-0.112754</td>\n",
       "      <td>0.030400</td>\n",
       "      <td>-0.464761</td>\n",
       "      <td>-0.018446</td>\n",
       "      <td>-0.841247</td>\n",
       "      <td>0.179941</td>\n",
       "      <td>-0.058627</td>\n",
       "      <td>1</td>\n",
       "      <td>STANDING</td>\n",
       "    </tr>\n",
       "    <tr>\n",
       "      <th>1</th>\n",
       "      <td>0.278419</td>\n",
       "      <td>-0.016411</td>\n",
       "      <td>-0.123520</td>\n",
       "      <td>-0.998245</td>\n",
       "      <td>-0.975300</td>\n",
       "      <td>-0.960322</td>\n",
       "      <td>-0.998807</td>\n",
       "      <td>-0.974914</td>\n",
       "      <td>-0.957686</td>\n",
       "      <td>-0.943068</td>\n",
       "      <td>...</td>\n",
       "      <td>-0.861499</td>\n",
       "      <td>0.053477</td>\n",
       "      <td>-0.007435</td>\n",
       "      <td>-0.732626</td>\n",
       "      <td>0.703511</td>\n",
       "      <td>-0.844788</td>\n",
       "      <td>0.180289</td>\n",
       "      <td>-0.054317</td>\n",
       "      <td>1</td>\n",
       "      <td>STANDING</td>\n",
       "    </tr>\n",
       "    <tr>\n",
       "      <th>2</th>\n",
       "      <td>0.279653</td>\n",
       "      <td>-0.019467</td>\n",
       "      <td>-0.113462</td>\n",
       "      <td>-0.995380</td>\n",
       "      <td>-0.967187</td>\n",
       "      <td>-0.978944</td>\n",
       "      <td>-0.996520</td>\n",
       "      <td>-0.963668</td>\n",
       "      <td>-0.977469</td>\n",
       "      <td>-0.938692</td>\n",
       "      <td>...</td>\n",
       "      <td>-0.760104</td>\n",
       "      <td>-0.118559</td>\n",
       "      <td>0.177899</td>\n",
       "      <td>0.100699</td>\n",
       "      <td>0.808529</td>\n",
       "      <td>-0.848933</td>\n",
       "      <td>0.180637</td>\n",
       "      <td>-0.049118</td>\n",
       "      <td>1</td>\n",
       "      <td>STANDING</td>\n",
       "    </tr>\n",
       "    <tr>\n",
       "      <th>3</th>\n",
       "      <td>0.279174</td>\n",
       "      <td>-0.026201</td>\n",
       "      <td>-0.123283</td>\n",
       "      <td>-0.996091</td>\n",
       "      <td>-0.983403</td>\n",
       "      <td>-0.990675</td>\n",
       "      <td>-0.997099</td>\n",
       "      <td>-0.982750</td>\n",
       "      <td>-0.989302</td>\n",
       "      <td>-0.938692</td>\n",
       "      <td>...</td>\n",
       "      <td>-0.482845</td>\n",
       "      <td>-0.036788</td>\n",
       "      <td>-0.012892</td>\n",
       "      <td>0.640011</td>\n",
       "      <td>-0.485366</td>\n",
       "      <td>-0.848649</td>\n",
       "      <td>0.181935</td>\n",
       "      <td>-0.047663</td>\n",
       "      <td>1</td>\n",
       "      <td>STANDING</td>\n",
       "    </tr>\n",
       "    <tr>\n",
       "      <th>4</th>\n",
       "      <td>0.276629</td>\n",
       "      <td>-0.016570</td>\n",
       "      <td>-0.115362</td>\n",
       "      <td>-0.998139</td>\n",
       "      <td>-0.980817</td>\n",
       "      <td>-0.990482</td>\n",
       "      <td>-0.998321</td>\n",
       "      <td>-0.979672</td>\n",
       "      <td>-0.990441</td>\n",
       "      <td>-0.942469</td>\n",
       "      <td>...</td>\n",
       "      <td>-0.699205</td>\n",
       "      <td>0.123320</td>\n",
       "      <td>0.122542</td>\n",
       "      <td>0.693578</td>\n",
       "      <td>-0.615971</td>\n",
       "      <td>-0.847865</td>\n",
       "      <td>0.185151</td>\n",
       "      <td>-0.043892</td>\n",
       "      <td>1</td>\n",
       "      <td>STANDING</td>\n",
       "    </tr>\n",
       "  </tbody>\n",
       "</table>\n",
       "<p>5 rows × 563 columns</p>\n",
       "</div>"
      ],
      "text/plain": [
       "   tBodyAcc-mean()-X  tBodyAcc-mean()-Y  tBodyAcc-mean()-Z  tBodyAcc-std()-X  \\\n",
       "0           0.288585          -0.020294          -0.132905         -0.995279   \n",
       "1           0.278419          -0.016411          -0.123520         -0.998245   \n",
       "2           0.279653          -0.019467          -0.113462         -0.995380   \n",
       "3           0.279174          -0.026201          -0.123283         -0.996091   \n",
       "4           0.276629          -0.016570          -0.115362         -0.998139   \n",
       "\n",
       "   tBodyAcc-std()-Y  tBodyAcc-std()-Z  tBodyAcc-mad()-X  tBodyAcc-mad()-Y  \\\n",
       "0         -0.983111         -0.913526         -0.995112         -0.983185   \n",
       "1         -0.975300         -0.960322         -0.998807         -0.974914   \n",
       "2         -0.967187         -0.978944         -0.996520         -0.963668   \n",
       "3         -0.983403         -0.990675         -0.997099         -0.982750   \n",
       "4         -0.980817         -0.990482         -0.998321         -0.979672   \n",
       "\n",
       "   tBodyAcc-mad()-Z  tBodyAcc-max()-X  ...  fBodyBodyGyroJerkMag-kurtosis()  \\\n",
       "0         -0.923527         -0.934724  ...                        -0.710304   \n",
       "1         -0.957686         -0.943068  ...                        -0.861499   \n",
       "2         -0.977469         -0.938692  ...                        -0.760104   \n",
       "3         -0.989302         -0.938692  ...                        -0.482845   \n",
       "4         -0.990441         -0.942469  ...                        -0.699205   \n",
       "\n",
       "   angle(tBodyAccMean,gravity)  angle(tBodyAccJerkMean),gravityMean)  \\\n",
       "0                    -0.112754                              0.030400   \n",
       "1                     0.053477                             -0.007435   \n",
       "2                    -0.118559                              0.177899   \n",
       "3                    -0.036788                             -0.012892   \n",
       "4                     0.123320                              0.122542   \n",
       "\n",
       "   angle(tBodyGyroMean,gravityMean)  angle(tBodyGyroJerkMean,gravityMean)  \\\n",
       "0                         -0.464761                             -0.018446   \n",
       "1                         -0.732626                              0.703511   \n",
       "2                          0.100699                              0.808529   \n",
       "3                          0.640011                             -0.485366   \n",
       "4                          0.693578                             -0.615971   \n",
       "\n",
       "   angle(X,gravityMean)  angle(Y,gravityMean)  angle(Z,gravityMean)  subject  \\\n",
       "0             -0.841247              0.179941             -0.058627        1   \n",
       "1             -0.844788              0.180289             -0.054317        1   \n",
       "2             -0.848933              0.180637             -0.049118        1   \n",
       "3             -0.848649              0.181935             -0.047663        1   \n",
       "4             -0.847865              0.185151             -0.043892        1   \n",
       "\n",
       "   Activity  \n",
       "0  STANDING  \n",
       "1  STANDING  \n",
       "2  STANDING  \n",
       "3  STANDING  \n",
       "4  STANDING  \n",
       "\n",
       "[5 rows x 563 columns]"
      ]
     },
     "execution_count": 5,
     "metadata": {},
     "output_type": "execute_result"
    }
   ],
   "source": [
    "data.head()"
   ]
  },
  {
   "cell_type": "code",
   "execution_count": 6,
   "id": "1514684a",
   "metadata": {
    "execution": {
     "iopub.execute_input": "2023-06-11T19:13:59.256352Z",
     "iopub.status.busy": "2023-06-11T19:13:59.255938Z",
     "iopub.status.idle": "2023-06-11T19:14:00.890191Z",
     "shell.execute_reply": "2023-06-11T19:14:00.888822Z"
    },
    "papermill": {
     "duration": 1.651045,
     "end_time": "2023-06-11T19:14:00.893109",
     "exception": false,
     "start_time": "2023-06-11T19:13:59.242064",
     "status": "completed"
    },
    "tags": []
   },
   "outputs": [
    {
     "data": {
      "text/html": [
       "<div>\n",
       "<style scoped>\n",
       "    .dataframe tbody tr th:only-of-type {\n",
       "        vertical-align: middle;\n",
       "    }\n",
       "\n",
       "    .dataframe tbody tr th {\n",
       "        vertical-align: top;\n",
       "    }\n",
       "\n",
       "    .dataframe thead th {\n",
       "        text-align: right;\n",
       "    }\n",
       "</style>\n",
       "<table border=\"1\" class=\"dataframe\">\n",
       "  <thead>\n",
       "    <tr style=\"text-align: right;\">\n",
       "      <th></th>\n",
       "      <th>tBodyAcc-mean()-X</th>\n",
       "      <th>tBodyAcc-mean()-Y</th>\n",
       "      <th>tBodyAcc-mean()-Z</th>\n",
       "      <th>tBodyAcc-std()-X</th>\n",
       "      <th>tBodyAcc-std()-Y</th>\n",
       "      <th>tBodyAcc-std()-Z</th>\n",
       "      <th>tBodyAcc-mad()-X</th>\n",
       "      <th>tBodyAcc-mad()-Y</th>\n",
       "      <th>tBodyAcc-mad()-Z</th>\n",
       "      <th>tBodyAcc-max()-X</th>\n",
       "      <th>...</th>\n",
       "      <th>fBodyBodyGyroJerkMag-skewness()</th>\n",
       "      <th>fBodyBodyGyroJerkMag-kurtosis()</th>\n",
       "      <th>angle(tBodyAccMean,gravity)</th>\n",
       "      <th>angle(tBodyAccJerkMean),gravityMean)</th>\n",
       "      <th>angle(tBodyGyroMean,gravityMean)</th>\n",
       "      <th>angle(tBodyGyroJerkMean,gravityMean)</th>\n",
       "      <th>angle(X,gravityMean)</th>\n",
       "      <th>angle(Y,gravityMean)</th>\n",
       "      <th>angle(Z,gravityMean)</th>\n",
       "      <th>subject</th>\n",
       "    </tr>\n",
       "  </thead>\n",
       "  <tbody>\n",
       "    <tr>\n",
       "      <th>count</th>\n",
       "      <td>7352.000000</td>\n",
       "      <td>7352.000000</td>\n",
       "      <td>7352.000000</td>\n",
       "      <td>7352.000000</td>\n",
       "      <td>7352.000000</td>\n",
       "      <td>7352.000000</td>\n",
       "      <td>7352.000000</td>\n",
       "      <td>7352.000000</td>\n",
       "      <td>7352.000000</td>\n",
       "      <td>7352.000000</td>\n",
       "      <td>...</td>\n",
       "      <td>7352.000000</td>\n",
       "      <td>7352.000000</td>\n",
       "      <td>7352.000000</td>\n",
       "      <td>7352.000000</td>\n",
       "      <td>7352.000000</td>\n",
       "      <td>7352.000000</td>\n",
       "      <td>7352.000000</td>\n",
       "      <td>7352.000000</td>\n",
       "      <td>7352.000000</td>\n",
       "      <td>7352.000000</td>\n",
       "    </tr>\n",
       "    <tr>\n",
       "      <th>mean</th>\n",
       "      <td>0.274488</td>\n",
       "      <td>-0.017695</td>\n",
       "      <td>-0.109141</td>\n",
       "      <td>-0.605438</td>\n",
       "      <td>-0.510938</td>\n",
       "      <td>-0.604754</td>\n",
       "      <td>-0.630512</td>\n",
       "      <td>-0.526907</td>\n",
       "      <td>-0.606150</td>\n",
       "      <td>-0.468604</td>\n",
       "      <td>...</td>\n",
       "      <td>-0.307009</td>\n",
       "      <td>-0.625294</td>\n",
       "      <td>0.008684</td>\n",
       "      <td>0.002186</td>\n",
       "      <td>0.008726</td>\n",
       "      <td>-0.005981</td>\n",
       "      <td>-0.489547</td>\n",
       "      <td>0.058593</td>\n",
       "      <td>-0.056515</td>\n",
       "      <td>17.413085</td>\n",
       "    </tr>\n",
       "    <tr>\n",
       "      <th>std</th>\n",
       "      <td>0.070261</td>\n",
       "      <td>0.040811</td>\n",
       "      <td>0.056635</td>\n",
       "      <td>0.448734</td>\n",
       "      <td>0.502645</td>\n",
       "      <td>0.418687</td>\n",
       "      <td>0.424073</td>\n",
       "      <td>0.485942</td>\n",
       "      <td>0.414122</td>\n",
       "      <td>0.544547</td>\n",
       "      <td>...</td>\n",
       "      <td>0.321011</td>\n",
       "      <td>0.307584</td>\n",
       "      <td>0.336787</td>\n",
       "      <td>0.448306</td>\n",
       "      <td>0.608303</td>\n",
       "      <td>0.477975</td>\n",
       "      <td>0.511807</td>\n",
       "      <td>0.297480</td>\n",
       "      <td>0.279122</td>\n",
       "      <td>8.975143</td>\n",
       "    </tr>\n",
       "    <tr>\n",
       "      <th>min</th>\n",
       "      <td>-1.000000</td>\n",
       "      <td>-1.000000</td>\n",
       "      <td>-1.000000</td>\n",
       "      <td>-1.000000</td>\n",
       "      <td>-0.999873</td>\n",
       "      <td>-1.000000</td>\n",
       "      <td>-1.000000</td>\n",
       "      <td>-1.000000</td>\n",
       "      <td>-1.000000</td>\n",
       "      <td>-1.000000</td>\n",
       "      <td>...</td>\n",
       "      <td>-0.995357</td>\n",
       "      <td>-0.999765</td>\n",
       "      <td>-0.976580</td>\n",
       "      <td>-1.000000</td>\n",
       "      <td>-1.000000</td>\n",
       "      <td>-1.000000</td>\n",
       "      <td>-1.000000</td>\n",
       "      <td>-1.000000</td>\n",
       "      <td>-1.000000</td>\n",
       "      <td>1.000000</td>\n",
       "    </tr>\n",
       "    <tr>\n",
       "      <th>25%</th>\n",
       "      <td>0.262975</td>\n",
       "      <td>-0.024863</td>\n",
       "      <td>-0.120993</td>\n",
       "      <td>-0.992754</td>\n",
       "      <td>-0.978129</td>\n",
       "      <td>-0.980233</td>\n",
       "      <td>-0.993591</td>\n",
       "      <td>-0.978162</td>\n",
       "      <td>-0.980251</td>\n",
       "      <td>-0.936219</td>\n",
       "      <td>...</td>\n",
       "      <td>-0.542602</td>\n",
       "      <td>-0.845573</td>\n",
       "      <td>-0.121527</td>\n",
       "      <td>-0.289549</td>\n",
       "      <td>-0.482273</td>\n",
       "      <td>-0.376341</td>\n",
       "      <td>-0.812065</td>\n",
       "      <td>-0.017885</td>\n",
       "      <td>-0.143414</td>\n",
       "      <td>8.000000</td>\n",
       "    </tr>\n",
       "    <tr>\n",
       "      <th>50%</th>\n",
       "      <td>0.277193</td>\n",
       "      <td>-0.017219</td>\n",
       "      <td>-0.108676</td>\n",
       "      <td>-0.946196</td>\n",
       "      <td>-0.851897</td>\n",
       "      <td>-0.859365</td>\n",
       "      <td>-0.950709</td>\n",
       "      <td>-0.857328</td>\n",
       "      <td>-0.857143</td>\n",
       "      <td>-0.881637</td>\n",
       "      <td>...</td>\n",
       "      <td>-0.343685</td>\n",
       "      <td>-0.711692</td>\n",
       "      <td>0.009509</td>\n",
       "      <td>0.008943</td>\n",
       "      <td>0.008735</td>\n",
       "      <td>-0.000368</td>\n",
       "      <td>-0.709417</td>\n",
       "      <td>0.182071</td>\n",
       "      <td>0.003181</td>\n",
       "      <td>19.000000</td>\n",
       "    </tr>\n",
       "    <tr>\n",
       "      <th>75%</th>\n",
       "      <td>0.288461</td>\n",
       "      <td>-0.010783</td>\n",
       "      <td>-0.097794</td>\n",
       "      <td>-0.242813</td>\n",
       "      <td>-0.034231</td>\n",
       "      <td>-0.262415</td>\n",
       "      <td>-0.292680</td>\n",
       "      <td>-0.066701</td>\n",
       "      <td>-0.265671</td>\n",
       "      <td>-0.017129</td>\n",
       "      <td>...</td>\n",
       "      <td>-0.126979</td>\n",
       "      <td>-0.503878</td>\n",
       "      <td>0.150865</td>\n",
       "      <td>0.292861</td>\n",
       "      <td>0.506187</td>\n",
       "      <td>0.359368</td>\n",
       "      <td>-0.509079</td>\n",
       "      <td>0.248353</td>\n",
       "      <td>0.107659</td>\n",
       "      <td>26.000000</td>\n",
       "    </tr>\n",
       "    <tr>\n",
       "      <th>max</th>\n",
       "      <td>1.000000</td>\n",
       "      <td>1.000000</td>\n",
       "      <td>1.000000</td>\n",
       "      <td>1.000000</td>\n",
       "      <td>0.916238</td>\n",
       "      <td>1.000000</td>\n",
       "      <td>1.000000</td>\n",
       "      <td>0.967664</td>\n",
       "      <td>1.000000</td>\n",
       "      <td>1.000000</td>\n",
       "      <td>...</td>\n",
       "      <td>0.989538</td>\n",
       "      <td>0.956845</td>\n",
       "      <td>1.000000</td>\n",
       "      <td>1.000000</td>\n",
       "      <td>0.998702</td>\n",
       "      <td>0.996078</td>\n",
       "      <td>1.000000</td>\n",
       "      <td>0.478157</td>\n",
       "      <td>1.000000</td>\n",
       "      <td>30.000000</td>\n",
       "    </tr>\n",
       "  </tbody>\n",
       "</table>\n",
       "<p>8 rows × 562 columns</p>\n",
       "</div>"
      ],
      "text/plain": [
       "       tBodyAcc-mean()-X  tBodyAcc-mean()-Y  tBodyAcc-mean()-Z  \\\n",
       "count        7352.000000        7352.000000        7352.000000   \n",
       "mean            0.274488          -0.017695          -0.109141   \n",
       "std             0.070261           0.040811           0.056635   \n",
       "min            -1.000000          -1.000000          -1.000000   \n",
       "25%             0.262975          -0.024863          -0.120993   \n",
       "50%             0.277193          -0.017219          -0.108676   \n",
       "75%             0.288461          -0.010783          -0.097794   \n",
       "max             1.000000           1.000000           1.000000   \n",
       "\n",
       "       tBodyAcc-std()-X  tBodyAcc-std()-Y  tBodyAcc-std()-Z  tBodyAcc-mad()-X  \\\n",
       "count       7352.000000       7352.000000       7352.000000       7352.000000   \n",
       "mean          -0.605438         -0.510938         -0.604754         -0.630512   \n",
       "std            0.448734          0.502645          0.418687          0.424073   \n",
       "min           -1.000000         -0.999873         -1.000000         -1.000000   \n",
       "25%           -0.992754         -0.978129         -0.980233         -0.993591   \n",
       "50%           -0.946196         -0.851897         -0.859365         -0.950709   \n",
       "75%           -0.242813         -0.034231         -0.262415         -0.292680   \n",
       "max            1.000000          0.916238          1.000000          1.000000   \n",
       "\n",
       "       tBodyAcc-mad()-Y  tBodyAcc-mad()-Z  tBodyAcc-max()-X  ...  \\\n",
       "count       7352.000000       7352.000000       7352.000000  ...   \n",
       "mean          -0.526907         -0.606150         -0.468604  ...   \n",
       "std            0.485942          0.414122          0.544547  ...   \n",
       "min           -1.000000         -1.000000         -1.000000  ...   \n",
       "25%           -0.978162         -0.980251         -0.936219  ...   \n",
       "50%           -0.857328         -0.857143         -0.881637  ...   \n",
       "75%           -0.066701         -0.265671         -0.017129  ...   \n",
       "max            0.967664          1.000000          1.000000  ...   \n",
       "\n",
       "       fBodyBodyGyroJerkMag-skewness()  fBodyBodyGyroJerkMag-kurtosis()  \\\n",
       "count                      7352.000000                      7352.000000   \n",
       "mean                         -0.307009                        -0.625294   \n",
       "std                           0.321011                         0.307584   \n",
       "min                          -0.995357                        -0.999765   \n",
       "25%                          -0.542602                        -0.845573   \n",
       "50%                          -0.343685                        -0.711692   \n",
       "75%                          -0.126979                        -0.503878   \n",
       "max                           0.989538                         0.956845   \n",
       "\n",
       "       angle(tBodyAccMean,gravity)  angle(tBodyAccJerkMean),gravityMean)  \\\n",
       "count                  7352.000000                           7352.000000   \n",
       "mean                      0.008684                              0.002186   \n",
       "std                       0.336787                              0.448306   \n",
       "min                      -0.976580                             -1.000000   \n",
       "25%                      -0.121527                             -0.289549   \n",
       "50%                       0.009509                              0.008943   \n",
       "75%                       0.150865                              0.292861   \n",
       "max                       1.000000                              1.000000   \n",
       "\n",
       "       angle(tBodyGyroMean,gravityMean)  angle(tBodyGyroJerkMean,gravityMean)  \\\n",
       "count                       7352.000000                           7352.000000   \n",
       "mean                           0.008726                             -0.005981   \n",
       "std                            0.608303                              0.477975   \n",
       "min                           -1.000000                             -1.000000   \n",
       "25%                           -0.482273                             -0.376341   \n",
       "50%                            0.008735                             -0.000368   \n",
       "75%                            0.506187                              0.359368   \n",
       "max                            0.998702                              0.996078   \n",
       "\n",
       "       angle(X,gravityMean)  angle(Y,gravityMean)  angle(Z,gravityMean)  \\\n",
       "count           7352.000000           7352.000000           7352.000000   \n",
       "mean              -0.489547              0.058593             -0.056515   \n",
       "std                0.511807              0.297480              0.279122   \n",
       "min               -1.000000             -1.000000             -1.000000   \n",
       "25%               -0.812065             -0.017885             -0.143414   \n",
       "50%               -0.709417              0.182071              0.003181   \n",
       "75%               -0.509079              0.248353              0.107659   \n",
       "max                1.000000              0.478157              1.000000   \n",
       "\n",
       "           subject  \n",
       "count  7352.000000  \n",
       "mean     17.413085  \n",
       "std       8.975143  \n",
       "min       1.000000  \n",
       "25%       8.000000  \n",
       "50%      19.000000  \n",
       "75%      26.000000  \n",
       "max      30.000000  \n",
       "\n",
       "[8 rows x 562 columns]"
      ]
     },
     "execution_count": 6,
     "metadata": {},
     "output_type": "execute_result"
    }
   ],
   "source": [
    "data.describe()"
   ]
  },
  {
   "cell_type": "code",
   "execution_count": 7,
   "id": "7df439c3",
   "metadata": {
    "execution": {
     "iopub.execute_input": "2023-06-11T19:14:00.918673Z",
     "iopub.status.busy": "2023-06-11T19:14:00.917501Z",
     "iopub.status.idle": "2023-06-11T19:14:00.941451Z",
     "shell.execute_reply": "2023-06-11T19:14:00.940003Z"
    },
    "papermill": {
     "duration": 0.039531,
     "end_time": "2023-06-11T19:14:00.944181",
     "exception": false,
     "start_time": "2023-06-11T19:14:00.904650",
     "status": "completed"
    },
    "tags": []
   },
   "outputs": [
    {
     "data": {
      "text/plain": [
       "<bound method DataFrame.info of       tBodyAcc-mean()-X  tBodyAcc-mean()-Y  tBodyAcc-mean()-Z  \\\n",
       "0              0.288585          -0.020294          -0.132905   \n",
       "1              0.278419          -0.016411          -0.123520   \n",
       "2              0.279653          -0.019467          -0.113462   \n",
       "3              0.279174          -0.026201          -0.123283   \n",
       "4              0.276629          -0.016570          -0.115362   \n",
       "...                 ...                ...                ...   \n",
       "7347           0.299665          -0.057193          -0.181233   \n",
       "7348           0.273853          -0.007749          -0.147468   \n",
       "7349           0.273387          -0.017011          -0.045022   \n",
       "7350           0.289654          -0.018843          -0.158281   \n",
       "7351           0.351503          -0.012423          -0.203867   \n",
       "\n",
       "      tBodyAcc-std()-X  tBodyAcc-std()-Y  tBodyAcc-std()-Z  tBodyAcc-mad()-X  \\\n",
       "0            -0.995279         -0.983111         -0.913526         -0.995112   \n",
       "1            -0.998245         -0.975300         -0.960322         -0.998807   \n",
       "2            -0.995380         -0.967187         -0.978944         -0.996520   \n",
       "3            -0.996091         -0.983403         -0.990675         -0.997099   \n",
       "4            -0.998139         -0.980817         -0.990482         -0.998321   \n",
       "...                ...               ...               ...               ...   \n",
       "7347         -0.195387          0.039905          0.077078         -0.282301   \n",
       "7348         -0.235309          0.004816          0.059280         -0.322552   \n",
       "7349         -0.218218         -0.103822          0.274533         -0.304515   \n",
       "7350         -0.219139         -0.111412          0.268893         -0.310487   \n",
       "7351         -0.269270         -0.087212          0.177404         -0.377404   \n",
       "\n",
       "      tBodyAcc-mad()-Y  tBodyAcc-mad()-Z  tBodyAcc-max()-X  ...  \\\n",
       "0            -0.983185         -0.923527         -0.934724  ...   \n",
       "1            -0.974914         -0.957686         -0.943068  ...   \n",
       "2            -0.963668         -0.977469         -0.938692  ...   \n",
       "3            -0.982750         -0.989302         -0.938692  ...   \n",
       "4            -0.979672         -0.990441         -0.942469  ...   \n",
       "...                ...               ...               ...  ...   \n",
       "7347          0.043616          0.060410          0.210795  ...   \n",
       "7348         -0.029456          0.080585          0.117440  ...   \n",
       "7349         -0.098913          0.332584          0.043999  ...   \n",
       "7350         -0.068200          0.319473          0.101702  ...   \n",
       "7351         -0.038678          0.229430          0.269013  ...   \n",
       "\n",
       "      fBodyBodyGyroJerkMag-kurtosis()  angle(tBodyAccMean,gravity)  \\\n",
       "0                           -0.710304                    -0.112754   \n",
       "1                           -0.861499                     0.053477   \n",
       "2                           -0.760104                    -0.118559   \n",
       "3                           -0.482845                    -0.036788   \n",
       "4                           -0.699205                     0.123320   \n",
       "...                               ...                          ...   \n",
       "7347                        -0.880324                    -0.190437   \n",
       "7348                        -0.680744                     0.064907   \n",
       "7349                        -0.304029                     0.052806   \n",
       "7350                        -0.344314                    -0.101360   \n",
       "7351                        -0.740738                    -0.280088   \n",
       "\n",
       "      angle(tBodyAccJerkMean),gravityMean)  angle(tBodyGyroMean,gravityMean)  \\\n",
       "0                                 0.030400                         -0.464761   \n",
       "1                                -0.007435                         -0.732626   \n",
       "2                                 0.177899                          0.100699   \n",
       "3                                -0.012892                          0.640011   \n",
       "4                                 0.122542                          0.693578   \n",
       "...                                    ...                               ...   \n",
       "7347                              0.829718                          0.206972   \n",
       "7348                              0.875679                         -0.879033   \n",
       "7349                             -0.266724                          0.864404   \n",
       "7350                              0.700740                          0.936674   \n",
       "7351                             -0.007739                         -0.056088   \n",
       "\n",
       "      angle(tBodyGyroJerkMean,gravityMean)  angle(X,gravityMean)  \\\n",
       "0                                -0.018446             -0.841247   \n",
       "1                                 0.703511             -0.844788   \n",
       "2                                 0.808529             -0.848933   \n",
       "3                                -0.485366             -0.848649   \n",
       "4                                -0.615971             -0.847865   \n",
       "...                                    ...                   ...   \n",
       "7347                             -0.425619             -0.791883   \n",
       "7348                              0.400219             -0.771840   \n",
       "7349                              0.701169             -0.779133   \n",
       "7350                             -0.589479             -0.785181   \n",
       "7351                             -0.616956             -0.783267   \n",
       "\n",
       "      angle(Y,gravityMean)  angle(Z,gravityMean)  subject          Activity  \n",
       "0                 0.179941             -0.058627        1          STANDING  \n",
       "1                 0.180289             -0.054317        1          STANDING  \n",
       "2                 0.180637             -0.049118        1          STANDING  \n",
       "3                 0.181935             -0.047663        1          STANDING  \n",
       "4                 0.185151             -0.043892        1          STANDING  \n",
       "...                    ...                   ...      ...               ...  \n",
       "7347              0.238604              0.049819       30  WALKING_UPSTAIRS  \n",
       "7348              0.252676              0.050053       30  WALKING_UPSTAIRS  \n",
       "7349              0.249145              0.040811       30  WALKING_UPSTAIRS  \n",
       "7350              0.246432              0.025339       30  WALKING_UPSTAIRS  \n",
       "7351              0.246809              0.036695       30  WALKING_UPSTAIRS  \n",
       "\n",
       "[7352 rows x 563 columns]>"
      ]
     },
     "execution_count": 7,
     "metadata": {},
     "output_type": "execute_result"
    }
   ],
   "source": [
    "data.info"
   ]
  },
  {
   "cell_type": "code",
   "execution_count": 8,
   "id": "e0eb0454",
   "metadata": {
    "execution": {
     "iopub.execute_input": "2023-06-11T19:14:00.969361Z",
     "iopub.status.busy": "2023-06-11T19:14:00.968933Z",
     "iopub.status.idle": "2023-06-11T19:14:01.368820Z",
     "shell.execute_reply": "2023-06-11T19:14:01.367483Z"
    },
    "papermill": {
     "duration": 0.415706,
     "end_time": "2023-06-11T19:14:01.371707",
     "exception": false,
     "start_time": "2023-06-11T19:14:00.956001",
     "status": "completed"
    },
    "tags": []
   },
   "outputs": [
    {
     "data": {
      "text/plain": [
       "<Axes: >"
      ]
     },
     "execution_count": 8,
     "metadata": {},
     "output_type": "execute_result"
    },
    {
     "data": {
      "image/png": "[encoded data removed]",
      "text/plain": [
       "<Figure size 640x480 with 1 Axes>"
      ]
     },
     "metadata": {},
     "output_type": "display_data"
    }
   ],
   "source": [
    "data['Activity'].value_counts().plot(kind = 'bar')"
   ]
  },
  {
   "cell_type": "code",
   "execution_count": 9,
   "id": "2f3d6d8c",
   "metadata": {
    "execution": {
     "iopub.execute_input": "2023-06-11T19:14:01.398888Z",
     "iopub.status.busy": "2023-06-11T19:14:01.398468Z",
     "iopub.status.idle": "2023-06-11T19:14:09.128515Z",
     "shell.execute_reply": "2023-06-11T19:14:09.127477Z"
    },
    "papermill": {
     "duration": 7.74703,
     "end_time": "2023-06-11T19:14:09.131712",
     "exception": false,
     "start_time": "2023-06-11T19:14:01.384682",
     "status": "completed"
    },
    "tags": []
   },
   "outputs": [
    {
     "name": "stdout",
     "output_type": "stream",
     "text": [
      "<class 'pandas.core.frame.DataFrame'>\n",
      "                                      tBodyAcc-mean()-X  tBodyAcc-mean()-Y  \\\n",
      "tBodyAcc-mean()-X                              1.000000           0.148061   \n",
      "tBodyAcc-mean()-Y                              0.148061           1.000000   \n",
      "tBodyAcc-mean()-Z                             -0.256952          -0.078769   \n",
      "tBodyAcc-std()-X                               0.000619          -0.045160   \n",
      "tBodyAcc-std()-Y                              -0.021903          -0.044920   \n",
      "...                                                 ...                ...   \n",
      "angle(tBodyGyroJerkMean,gravityMean)           0.028844           0.075679   \n",
      "angle(X,gravityMean)                          -0.035257          -0.005309   \n",
      "angle(Y,gravityMean)                           0.034371           0.001053   \n",
      "angle(Z,gravityMean)                           0.028242          -0.013903   \n",
      "subject                                        0.024181          -0.003144   \n",
      "\n",
      "                                      tBodyAcc-mean()-Z  tBodyAcc-std()-X  \\\n",
      "tBodyAcc-mean()-X                             -0.256952          0.000619   \n",
      "tBodyAcc-mean()-Y                             -0.078769         -0.045160   \n",
      "tBodyAcc-mean()-Z                              1.000000         -0.020217   \n",
      "tBodyAcc-std()-X                              -0.020217          1.000000   \n",
      "tBodyAcc-std()-Y                              -0.016641          0.927461   \n",
      "...                                                 ...               ...   \n",
      "angle(tBodyGyroJerkMean,gravityMean)          -0.034037         -0.024810   \n",
      "angle(X,gravityMean)                           0.008587         -0.371653   \n",
      "angle(Y,gravityMean)                          -0.015288          0.471065   \n",
      "angle(Z,gravityMean)                          -0.022643          0.394825   \n",
      "subject                                       -0.000637         -0.064345   \n",
      "\n",
      "                                      tBodyAcc-std()-Y  tBodyAcc-std()-Z  \\\n",
      "tBodyAcc-mean()-X                            -0.021903         -0.044617   \n",
      "tBodyAcc-mean()-Y                            -0.044920         -0.049746   \n",
      "tBodyAcc-mean()-Z                            -0.016641         -0.008410   \n",
      "tBodyAcc-std()-X                              0.927461          0.851668   \n",
      "tBodyAcc-std()-Y                              1.000000          0.895510   \n",
      "...                                                ...               ...   \n",
      "angle(tBodyGyroJerkMean,gravityMean)         -0.014592         -0.006471   \n",
      "angle(X,gravityMean)                         -0.380531         -0.345011   \n",
      "angle(Y,gravityMean)                          0.523600          0.476006   \n",
      "angle(Z,gravityMean)                          0.433169          0.482828   \n",
      "subject                                      -0.115524         -0.050123   \n",
      "\n",
      "                                      tBodyAcc-mad()-X  tBodyAcc-mad()-Y  \\\n",
      "tBodyAcc-mean()-X                             0.006290         -0.022754   \n",
      "tBodyAcc-mean()-Y                            -0.044180         -0.045049   \n",
      "tBodyAcc-mean()-Z                            -0.018747         -0.015203   \n",
      "tBodyAcc-std()-X                              0.998632          0.920888   \n",
      "tBodyAcc-std()-Y                              0.922803          0.997347   \n",
      "...                                                ...               ...   \n",
      "angle(tBodyGyroJerkMean,gravityMean)         -0.024951         -0.012341   \n",
      "angle(X,gravityMean)                         -0.368191         -0.377025   \n",
      "angle(Y,gravityMean)                          0.466424          0.525081   \n",
      "angle(Z,gravityMean)                          0.390922          0.431459   \n",
      "subject                                      -0.063440         -0.114753   \n",
      "\n",
      "                                      tBodyAcc-mad()-Z  tBodyAcc-max()-X  ...  \\\n",
      "tBodyAcc-mean()-X                            -0.047558          0.044062  ...   \n",
      "tBodyAcc-mean()-Y                            -0.050402         -0.038108  ...   \n",
      "tBodyAcc-mean()-Z                            -0.001988         -0.037197  ...   \n",
      "tBodyAcc-std()-X                              0.846392          0.980844  ...   \n",
      "tBodyAcc-std()-Y                              0.894509          0.917366  ...   \n",
      "...                                                ...               ...  ...   \n",
      "angle(tBodyGyroJerkMean,gravityMean)         -0.007231         -0.028871  ...   \n",
      "angle(X,gravityMean)                         -0.347389         -0.384192  ...   \n",
      "angle(Y,gravityMean)                          0.477607          0.480229  ...   \n",
      "angle(Z,gravityMean)                          0.479751          0.405023  ...   \n",
      "subject                                      -0.055457         -0.055633  ...   \n",
      "\n",
      "                                      fBodyBodyGyroJerkMag-skewness()  \\\n",
      "tBodyAcc-mean()-X                                           -0.017557   \n",
      "tBodyAcc-mean()-Y                                           -0.001587   \n",
      "tBodyAcc-mean()-Z                                            0.020091   \n",
      "tBodyAcc-std()-X                                             0.148034   \n",
      "tBodyAcc-std()-Y                                             0.206227   \n",
      "...                                                               ...   \n",
      "angle(tBodyGyroJerkMean,gravityMean)                        -0.017937   \n",
      "angle(X,gravityMean)                                        -0.086006   \n",
      "angle(Y,gravityMean)                                         0.086993   \n",
      "angle(Z,gravityMean)                                         0.057831   \n",
      "subject                                                     -0.049072   \n",
      "\n",
      "                                      fBodyBodyGyroJerkMag-kurtosis()  \\\n",
      "tBodyAcc-mean()-X                                           -0.015613   \n",
      "tBodyAcc-mean()-Y                                           -0.004459   \n",
      "tBodyAcc-mean()-Z                                            0.019127   \n",
      "tBodyAcc-std()-X                                             0.115565   \n",
      "tBodyAcc-std()-Y                                             0.176946   \n",
      "...                                                               ...   \n",
      "angle(tBodyGyroJerkMean,gravityMean)                        -0.014865   \n",
      "angle(X,gravityMean)                                        -0.079751   \n",
      "angle(Y,gravityMean)                                         0.078079   \n",
      "angle(Z,gravityMean)                                         0.052548   \n",
      "subject                                                     -0.043902   \n",
      "\n",
      "                                      angle(tBodyAccMean,gravity)  \\\n",
      "tBodyAcc-mean()-X                                       -0.544320   \n",
      "tBodyAcc-mean()-Y                                        0.070559   \n",
      "tBodyAcc-mean()-Z                                        0.052841   \n",
      "tBodyAcc-std()-X                                        -0.035011   \n",
      "tBodyAcc-std()-Y                                        -0.020379   \n",
      "...                                                           ...   \n",
      "angle(tBodyGyroJerkMean,gravityMean)                    -0.020823   \n",
      "angle(X,gravityMean)                                     0.011880   \n",
      "angle(Y,gravityMean)                                     0.001540   \n",
      "angle(Z,gravityMean)                                    -0.003069   \n",
      "subject                                                 -0.005087   \n",
      "\n",
      "                                      angle(tBodyAccJerkMean),gravityMean)  \\\n",
      "tBodyAcc-mean()-X                                                 0.012173   \n",
      "tBodyAcc-mean()-Y                                                -0.013541   \n",
      "tBodyAcc-mean()-Z                                                -0.039836   \n",
      "tBodyAcc-std()-X                                                 -0.021633   \n",
      "tBodyAcc-std()-Y                                                 -0.012505   \n",
      "...                                                                    ...   \n",
      "angle(tBodyGyroJerkMean,gravityMean)                              0.035263   \n",
      "angle(X,gravityMean)                                              0.023246   \n",
      "angle(Y,gravityMean)                                             -0.012990   \n",
      "angle(Z,gravityMean)                                             -0.017520   \n",
      "subject                                                           0.012510   \n",
      "\n",
      "                                      angle(tBodyGyroMean,gravityMean)  \\\n",
      "tBodyAcc-mean()-X                                             0.037444   \n",
      "tBodyAcc-mean()-Y                                             0.017967   \n",
      "tBodyAcc-mean()-Z                                            -0.063609   \n",
      "tBodyAcc-std()-X                                              0.018985   \n",
      "tBodyAcc-std()-Y                                             -0.008507   \n",
      "...                                                                ...   \n",
      "angle(tBodyGyroJerkMean,gravityMean)                         -0.116001   \n",
      "angle(X,gravityMean)                                         -0.005853   \n",
      "angle(Y,gravityMean)                                         -0.012313   \n",
      "angle(Z,gravityMean)                                         -0.019903   \n",
      "subject                                                      -0.005314   \n",
      "\n",
      "                                      angle(tBodyGyroJerkMean,gravityMean)  \\\n",
      "tBodyAcc-mean()-X                                                 0.028844   \n",
      "tBodyAcc-mean()-Y                                                 0.075679   \n",
      "tBodyAcc-mean()-Z                                                -0.034037   \n",
      "tBodyAcc-std()-X                                                 -0.024810   \n",
      "tBodyAcc-std()-Y                                                 -0.014592   \n",
      "...                                                                    ...   \n",
      "angle(tBodyGyroJerkMean,gravityMean)                              1.000000   \n",
      "angle(X,gravityMean)                                              0.023995   \n",
      "angle(Y,gravityMean)                                             -0.005869   \n",
      "angle(Z,gravityMean)                                             -0.005656   \n",
      "subject                                                           0.009340   \n",
      "\n",
      "                                      angle(X,gravityMean)  \\\n",
      "tBodyAcc-mean()-X                                -0.035257   \n",
      "tBodyAcc-mean()-Y                                -0.005309   \n",
      "tBodyAcc-mean()-Z                                 0.008587   \n",
      "tBodyAcc-std()-X                                 -0.371653   \n",
      "tBodyAcc-std()-Y                                 -0.380531   \n",
      "...                                                    ...   \n",
      "angle(tBodyGyroJerkMean,gravityMean)              0.023995   \n",
      "angle(X,gravityMean)                              1.000000   \n",
      "angle(Y,gravityMean)                             -0.783848   \n",
      "angle(Z,gravityMean)                             -0.643655   \n",
      "subject                                           0.026137   \n",
      "\n",
      "                                      angle(Y,gravityMean)  \\\n",
      "tBodyAcc-mean()-X                                 0.034371   \n",
      "tBodyAcc-mean()-Y                                 0.001053   \n",
      "tBodyAcc-mean()-Z                                -0.015288   \n",
      "tBodyAcc-std()-X                                  0.471065   \n",
      "tBodyAcc-std()-Y                                  0.523600   \n",
      "...                                                    ...   \n",
      "angle(tBodyGyroJerkMean,gravityMean)             -0.005869   \n",
      "angle(X,gravityMean)                             -0.783848   \n",
      "angle(Y,gravityMean)                              1.000000   \n",
      "angle(Z,gravityMean)                              0.594885   \n",
      "subject                                          -0.009829   \n",
      "\n",
      "                                      angle(Z,gravityMean)   subject  \n",
      "tBodyAcc-mean()-X                                 0.028242  0.024181  \n",
      "tBodyAcc-mean()-Y                                -0.013903 -0.003144  \n",
      "tBodyAcc-mean()-Z                                -0.022643 -0.000637  \n",
      "tBodyAcc-std()-X                                  0.394825 -0.064345  \n",
      "tBodyAcc-std()-Y                                  0.433169 -0.115524  \n",
      "...                                                    ...       ...  \n",
      "angle(tBodyGyroJerkMean,gravityMean)             -0.005656  0.009340  \n",
      "angle(X,gravityMean)                             -0.643655  0.026137  \n",
      "angle(Y,gravityMean)                              0.594885 -0.009829  \n",
      "angle(Z,gravityMean)                              1.000000 -0.098712  \n",
      "subject                                          -0.098712  1.000000  \n",
      "\n",
      "[562 rows x 562 columns]\n"
     ]
    },
    {
     "data": {
      "image/png": "[encoded data removed]",
      "text/plain": [
       "<Figure size 640x480 with 2 Axes>"
      ]
     },
     "metadata": {},
     "output_type": "display_data"
    }
   ],
   "source": [
    "corr = data.corr()\n",
    "print(type(corr))\n",
    "heatmap = sns.heatmap(corr.iloc[:15,:15], annot=True, cmap=\"Blues\", fmt='.1g')\n",
    "print(corr)"
   ]
  },
  {
   "attachments": {},
   "cell_type": "markdown",
   "id": "25dc528c",
   "metadata": {
    "papermill": {
     "duration": 0.014999,
     "end_time": "2023-06-11T19:14:09.162013",
     "exception": false,
     "start_time": "2023-06-11T19:14:09.147014",
     "status": "completed"
    },
    "tags": []
   },
   "source": [
    "# Preparing Training and Testing Data"
   ]
  },
  {
   "cell_type": "code",
   "execution_count": 10,
   "id": "aa001ed8",
   "metadata": {
    "execution": {
     "iopub.execute_input": "2023-06-11T19:14:09.194716Z",
     "iopub.status.busy": "2023-06-11T19:14:09.193955Z",
     "iopub.status.idle": "2023-06-11T19:14:09.218451Z",
     "shell.execute_reply": "2023-06-11T19:14:09.217224Z"
    },
    "papermill": {
     "duration": 0.044227,
     "end_time": "2023-06-11T19:14:09.221296",
     "exception": false,
     "start_time": "2023-06-11T19:14:09.177069",
     "status": "completed"
    },
    "tags": []
   },
   "outputs": [
    {
     "name": "stdout",
     "output_type": "stream",
     "text": [
      "Training Data shape: (7352, 561)\n",
      "Testing Data Shape: (2947, 561)\n"
     ]
    }
   ],
   "source": [
    "x_train, y_train = train_data.iloc[:, :-2], train_data.iloc[:, -1:]\n",
    "x_test, y_test = test_data.iloc[:, :-2], test_data.iloc[:, -1:]\n",
    "print(f\"Training Data shape: {x_train.shape}\\nTesting Data Shape: {x_test.shape}\")"
   ]
  },
  {
   "cell_type": "code",
   "execution_count": 11,
   "id": "965ce574",
   "metadata": {
    "execution": {
     "iopub.execute_input": "2023-06-11T19:14:09.257095Z",
     "iopub.status.busy": "2023-06-11T19:14:09.256307Z",
     "iopub.status.idle": "2023-06-11T19:14:09.456787Z",
     "shell.execute_reply": "2023-06-11T19:14:09.455633Z"
    },
    "papermill": {
     "duration": 0.22031,
     "end_time": "2023-06-11T19:14:09.459843",
     "exception": false,
     "start_time": "2023-06-11T19:14:09.239533",
     "status": "completed"
    },
    "tags": []
   },
   "outputs": [],
   "source": [
    "from sklearn.preprocessing import MinMaxScaler\n",
    "from sklearn.preprocessing import LabelEncoder"
   ]
  },
  {
   "cell_type": "code",
   "execution_count": 12,
   "id": "dad75f91",
   "metadata": {
    "execution": {
     "iopub.execute_input": "2023-06-11T19:14:09.492916Z",
     "iopub.status.busy": "2023-06-11T19:14:09.492503Z",
     "iopub.status.idle": "2023-06-11T19:14:09.506651Z",
     "shell.execute_reply": "2023-06-11T19:14:09.505138Z"
    },
    "papermill": {
     "duration": 0.033811,
     "end_time": "2023-06-11T19:14:09.509492",
     "exception": false,
     "start_time": "2023-06-11T19:14:09.475681",
     "status": "completed"
    },
    "tags": []
   },
   "outputs": [
    {
     "name": "stdout",
     "output_type": "stream",
     "text": [
      "['LAYING' 'SITTING' 'STANDING' 'WALKING' 'WALKING_DOWNSTAIRS'\n",
      " 'WALKING_UPSTAIRS']\n"
     ]
    }
   ],
   "source": [
    "#Encode target labels with value between 0 and n_classes-1\n",
    "le = LabelEncoder()\n",
    "y_train = le.fit_transform(y_train)\n",
    "print(le.classes_)\n",
    "y_test = le.fit_transform(y_test)"
   ]
  },
  {
   "cell_type": "code",
   "execution_count": 13,
   "id": "43aaa31f",
   "metadata": {
    "execution": {
     "iopub.execute_input": "2023-06-11T19:14:09.543393Z",
     "iopub.status.busy": "2023-06-11T19:14:09.542618Z",
     "iopub.status.idle": "2023-06-11T19:14:09.625897Z",
     "shell.execute_reply": "2023-06-11T19:14:09.624696Z"
    },
    "papermill": {
     "duration": 0.102724,
     "end_time": "2023-06-11T19:14:09.628555",
     "exception": false,
     "start_time": "2023-06-11T19:14:09.525831",
     "status": "completed"
    },
    "tags": []
   },
   "outputs": [],
   "source": [
    "# This estimator scales and translates each feature individually such that it is in the given range on the training set, between zero and one.\n",
    "scaling_data = MinMaxScaler()\n",
    "x_train = scaling_data.fit_transform(x_train)\n",
    "x_test = scaling_data.transform(x_test)"
   ]
  },
  {
   "attachments": {},
   "cell_type": "markdown",
   "id": "6d948f66",
   "metadata": {
    "papermill": {
     "duration": 0.015307,
     "end_time": "2023-06-11T19:14:09.659337",
     "exception": false,
     "start_time": "2023-06-11T19:14:09.644030",
     "status": "completed"
    },
    "tags": []
   },
   "source": [
    "# Base Model"
   ]
  },
  {
   "cell_type": "code",
   "execution_count": 14,
   "id": "fa827244",
   "metadata": {
    "execution": {
     "iopub.execute_input": "2023-06-11T19:14:09.695515Z",
     "iopub.status.busy": "2023-06-11T19:14:09.694530Z",
     "iopub.status.idle": "2023-06-11T19:14:20.253898Z",
     "shell.execute_reply": "2023-06-11T19:14:20.252494Z"
    },
    "papermill": {
     "duration": 10.58021,
     "end_time": "2023-06-11T19:14:20.256826",
     "exception": false,
     "start_time": "2023-06-11T19:14:09.676616",
     "status": "completed"
    },
    "tags": []
   },
   "outputs": [],
   "source": [
    "from tensorflow import keras\n",
    "from tensorflow.keras import layers\n",
    "from keras.models import Sequential\n",
    "from keras.layers import Dense,Dropout"
   ]
  },
  {
   "cell_type": "code",
   "execution_count": 15,
   "id": "18de422d",
   "metadata": {
    "execution": {
     "iopub.execute_input": "2023-06-11T19:14:20.292575Z",
     "iopub.status.busy": "2023-06-11T19:14:20.291664Z",
     "iopub.status.idle": "2023-06-11T19:14:31.796866Z",
     "shell.execute_reply": "2023-06-11T19:14:31.795615Z"
    },
    "papermill": {
     "duration": 11.526478,
     "end_time": "2023-06-11T19:14:31.799977",
     "exception": false,
     "start_time": "2023-06-11T19:14:20.273499",
     "status": "completed"
    },
    "tags": []
   },
   "outputs": [
    {
     "name": "stdout",
     "output_type": "stream",
     "text": [
      "Epoch 1/50\n",
      "115/115 [==============================] - 5s 19ms/step - loss: 1.3115 - accuracy: 0.4931 - val_loss: 1.0412 - val_accuracy: 0.6970\n",
      "Epoch 2/50\n",
      "115/115 [==============================] - 1s 10ms/step - loss: 0.8851 - accuracy: 0.7315 - val_loss: 0.7404 - val_accuracy: 0.7913\n",
      "Epoch 3/50\n",
      "115/115 [==============================] - 1s 10ms/step - loss: 0.6097 - accuracy: 0.8248 - val_loss: 0.5343 - val_accuracy: 0.8361\n",
      "Epoch 4/50\n",
      "115/115 [==============================] - 1s 10ms/step - loss: 0.4607 - accuracy: 0.8619 - val_loss: 0.4230 - val_accuracy: 0.8836\n",
      "Epoch 5/50\n",
      "115/115 [==============================] - 1s 10ms/step - loss: 0.3727 - accuracy: 0.8868 - val_loss: 0.3513 - val_accuracy: 0.8972\n",
      "Epoch 6/50\n",
      "115/115 [==============================] - 1s 10ms/step - loss: 0.3132 - accuracy: 0.9013 - val_loss: 0.3254 - val_accuracy: 0.8941\n",
      "Epoch 7/50\n",
      "115/115 [==============================] - 1s 9ms/step - loss: 0.2730 - accuracy: 0.9129 - val_loss: 0.2674 - val_accuracy: 0.9104\n",
      "Epoch 8/50\n",
      "115/115 [==============================] - 1s 12ms/step - loss: 0.2376 - accuracy: 0.9234 - val_loss: 0.2459 - val_accuracy: 0.9094\n",
      "Epoch 9/50\n",
      "115/115 [==============================] - 1s 10ms/step - loss: 0.2169 - accuracy: 0.9283 - val_loss: 0.2352 - val_accuracy: 0.9084\n",
      "Epoch 10/50\n",
      "115/115 [==============================] - 1s 9ms/step - loss: 0.1988 - accuracy: 0.9335 - val_loss: 0.2106 - val_accuracy: 0.9206\n",
      "Epoch 11/50\n",
      "115/115 [==============================] - 1s 11ms/step - loss: 0.1857 - accuracy: 0.9335 - val_loss: 0.1930 - val_accuracy: 0.9298\n",
      "Epoch 12/50\n",
      "115/115 [==============================] - 2s 14ms/step - loss: 0.1673 - accuracy: 0.9444 - val_loss: 0.1924 - val_accuracy: 0.9284\n",
      "Epoch 13/50\n",
      "115/115 [==============================] - 1s 9ms/step - loss: 0.1577 - accuracy: 0.9445 - val_loss: 0.1776 - val_accuracy: 0.9376\n",
      "Epoch 14/50\n",
      "115/115 [==============================] - 1s 9ms/step - loss: 0.1478 - accuracy: 0.9508 - val_loss: 0.1811 - val_accuracy: 0.9277\n",
      "Epoch 15/50\n",
      "115/115 [==============================] - 1s 10ms/step - loss: 0.1425 - accuracy: 0.9495 - val_loss: 0.1770 - val_accuracy: 0.9284\n",
      "Epoch 16/50\n",
      "115/115 [==============================] - 1s 9ms/step - loss: 0.1336 - accuracy: 0.9524 - val_loss: 0.1615 - val_accuracy: 0.9352\n",
      "Epoch 17/50\n",
      "115/115 [==============================] - 1s 9ms/step - loss: 0.1255 - accuracy: 0.9561 - val_loss: 0.1695 - val_accuracy: 0.9342\n",
      "Epoch 18/50\n",
      "115/115 [==============================] - 1s 10ms/step - loss: 0.1173 - accuracy: 0.9595 - val_loss: 0.1614 - val_accuracy: 0.9338\n",
      "Epoch 19/50\n",
      "115/115 [==============================] - 1s 10ms/step - loss: 0.1127 - accuracy: 0.9616 - val_loss: 0.1589 - val_accuracy: 0.9342\n",
      "Epoch 20/50\n",
      "115/115 [==============================] - 1s 9ms/step - loss: 0.1108 - accuracy: 0.9626 - val_loss: 0.1657 - val_accuracy: 0.9321\n",
      "Epoch 21/50\n",
      "115/115 [==============================] - 1s 13ms/step - loss: 0.1024 - accuracy: 0.9642 - val_loss: 0.1558 - val_accuracy: 0.9379\n",
      "Epoch 22/50\n",
      "115/115 [==============================] - 1s 11ms/step - loss: 0.1028 - accuracy: 0.9660 - val_loss: 0.1395 - val_accuracy: 0.9467\n",
      "Epoch 23/50\n",
      "115/115 [==============================] - 1s 12ms/step - loss: 0.0977 - accuracy: 0.9642 - val_loss: 0.1463 - val_accuracy: 0.9416\n",
      "Epoch 24/50\n",
      "115/115 [==============================] - 1s 10ms/step - loss: 0.0942 - accuracy: 0.9665 - val_loss: 0.1391 - val_accuracy: 0.9450\n",
      "Epoch 25/50\n",
      "115/115 [==============================] - 1s 10ms/step - loss: 0.0928 - accuracy: 0.9674 - val_loss: 0.1469 - val_accuracy: 0.9430\n",
      "Epoch 26/50\n",
      "115/115 [==============================] - 1s 8ms/step - loss: 0.0884 - accuracy: 0.9683 - val_loss: 0.1357 - val_accuracy: 0.9501\n",
      "Epoch 27/50\n",
      "115/115 [==============================] - 1s 8ms/step - loss: 0.0845 - accuracy: 0.9689 - val_loss: 0.1514 - val_accuracy: 0.9386\n",
      "Epoch 28/50\n",
      "115/115 [==============================] - 1s 8ms/step - loss: 0.0829 - accuracy: 0.9698 - val_loss: 0.1477 - val_accuracy: 0.9393\n",
      "Epoch 29/50\n",
      "115/115 [==============================] - 1s 8ms/step - loss: 0.0826 - accuracy: 0.9699 - val_loss: 0.1337 - val_accuracy: 0.9484\n",
      "Epoch 30/50\n",
      "115/115 [==============================] - 1s 8ms/step - loss: 0.0791 - accuracy: 0.9732 - val_loss: 0.1394 - val_accuracy: 0.9471\n",
      "Epoch 31/50\n",
      "115/115 [==============================] - 1s 8ms/step - loss: 0.0780 - accuracy: 0.9728 - val_loss: 0.1376 - val_accuracy: 0.9491\n",
      "Epoch 32/50\n",
      "115/115 [==============================] - 1s 8ms/step - loss: 0.0783 - accuracy: 0.9721 - val_loss: 0.1517 - val_accuracy: 0.9410\n",
      "Epoch 33/50\n",
      "115/115 [==============================] - 1s 8ms/step - loss: 0.0736 - accuracy: 0.9725 - val_loss: 0.1454 - val_accuracy: 0.9440\n",
      "Epoch 34/50\n",
      "115/115 [==============================] - 1s 8ms/step - loss: 0.0729 - accuracy: 0.9728 - val_loss: 0.1384 - val_accuracy: 0.9481\n",
      "Epoch 35/50\n",
      "115/115 [==============================] - 1s 8ms/step - loss: 0.0721 - accuracy: 0.9740 - val_loss: 0.1463 - val_accuracy: 0.9437\n",
      "Epoch 36/50\n",
      "115/115 [==============================] - 1s 8ms/step - loss: 0.0672 - accuracy: 0.9750 - val_loss: 0.1432 - val_accuracy: 0.9454\n",
      "Epoch 37/50\n",
      "115/115 [==============================] - 1s 8ms/step - loss: 0.0690 - accuracy: 0.9769 - val_loss: 0.1433 - val_accuracy: 0.9430\n",
      "Epoch 38/50\n",
      "115/115 [==============================] - 1s 9ms/step - loss: 0.0672 - accuracy: 0.9762 - val_loss: 0.1342 - val_accuracy: 0.9494\n",
      "Epoch 39/50\n",
      "115/115 [==============================] - 1s 8ms/step - loss: 0.0624 - accuracy: 0.9774 - val_loss: 0.1667 - val_accuracy: 0.9345\n",
      "Epoch 40/50\n",
      "115/115 [==============================] - 1s 8ms/step - loss: 0.0662 - accuracy: 0.9746 - val_loss: 0.1384 - val_accuracy: 0.9484\n",
      "Epoch 41/50\n",
      "115/115 [==============================] - 1s 8ms/step - loss: 0.0666 - accuracy: 0.9758 - val_loss: 0.1395 - val_accuracy: 0.9474\n",
      "Epoch 42/50\n",
      "115/115 [==============================] - 1s 8ms/step - loss: 0.0613 - accuracy: 0.9805 - val_loss: 0.1567 - val_accuracy: 0.9413\n",
      "Epoch 43/50\n",
      "115/115 [==============================] - 1s 8ms/step - loss: 0.0634 - accuracy: 0.9773 - val_loss: 0.1592 - val_accuracy: 0.9416\n",
      "Epoch 44/50\n",
      "115/115 [==============================] - 1s 8ms/step - loss: 0.0605 - accuracy: 0.9780 - val_loss: 0.1602 - val_accuracy: 0.9372\n",
      "Epoch 45/50\n",
      "115/115 [==============================] - 1s 8ms/step - loss: 0.0621 - accuracy: 0.9774 - val_loss: 0.1257 - val_accuracy: 0.9545\n",
      "Epoch 46/50\n",
      "115/115 [==============================] - 1s 8ms/step - loss: 0.0552 - accuracy: 0.9804 - val_loss: 0.1531 - val_accuracy: 0.9457\n",
      "Epoch 47/50\n",
      "115/115 [==============================] - 1s 9ms/step - loss: 0.0588 - accuracy: 0.9782 - val_loss: 0.1518 - val_accuracy: 0.9437\n",
      "Epoch 48/50\n",
      "115/115 [==============================] - 1s 8ms/step - loss: 0.0587 - accuracy: 0.9791 - val_loss: 0.1422 - val_accuracy: 0.9508\n",
      "Epoch 49/50\n",
      "115/115 [==============================] - 1s 8ms/step - loss: 0.0557 - accuracy: 0.9782 - val_loss: 0.1447 - val_accuracy: 0.9464\n",
      "Epoch 50/50\n",
      "115/115 [==============================] - 1s 8ms/step - loss: 0.0536 - accuracy: 0.9805 - val_loss: 0.1521 - val_accuracy: 0.9433\n"
     ]
    }
   ],
   "source": [
    "model = Sequential()\n",
    "model.add(Dense(units=64,kernel_initializer='normal',activation='sigmoid',input_dim=x_train.shape[1]))\n",
    "model.add(Dropout(0.2))\n",
    "model.add(Dense(units=6,kernel_initializer='normal',activation='softmax'))\n",
    "model.compile(optimizer='adam',loss='sparse_categorical_crossentropy',metrics=['accuracy'])\n",
    "history = model.fit(x_train, y_train, batch_size = 64, epochs= 50,validation_data = (x_test,y_test))"
   ]
  },
  {
   "cell_type": "code",
   "execution_count": 16,
   "id": "68e9d549",
   "metadata": {
    "execution": {
     "iopub.execute_input": "2023-06-11T19:14:31.851494Z",
     "iopub.status.busy": "2023-06-11T19:14:31.851017Z",
     "iopub.status.idle": "2023-06-11T19:14:31.873818Z",
     "shell.execute_reply": "2023-06-11T19:14:31.872416Z"
    },
    "papermill": {
     "duration": 0.058494,
     "end_time": "2023-06-11T19:14:31.882955",
     "exception": false,
     "start_time": "2023-06-11T19:14:31.824461",
     "status": "completed"
    },
    "tags": []
   },
   "outputs": [
    {
     "name": "stdout",
     "output_type": "stream",
     "text": [
      "Model: \"sequential\"\n",
      "_________________________________________________________________\n",
      " Layer (type)                Output Shape              Param #   \n",
      "=================================================================\n",
      " dense (Dense)               (None, 64)                35968     \n",
      "                                                                 \n",
      " dropout (Dropout)           (None, 64)                0         \n",
      "                                                                 \n",
      " dense_1 (Dense)             (None, 6)                 390       \n",
      "                                                                 \n",
      "=================================================================\n",
      "Total params: 36,358\n",
      "Trainable params: 36,358\n",
      "Non-trainable params: 0\n",
      "_________________________________________________________________\n"
     ]
    }
   ],
   "source": [
    "model.summary()"
   ]
  },
  {
   "attachments": {},
   "cell_type": "markdown",
   "id": "026fb585",
   "metadata": {
    "papermill": {
     "duration": 0.025064,
     "end_time": "2023-06-11T19:14:31.933923",
     "exception": false,
     "start_time": "2023-06-11T19:14:31.908859",
     "status": "completed"
    },
    "tags": []
   },
   "source": [
    "# Hypertuning the model "
   ]
  },
  {
   "cell_type": "code",
   "execution_count": 17,
   "id": "806822a0",
   "metadata": {
    "execution": {
     "iopub.execute_input": "2023-06-11T19:14:31.986440Z",
     "iopub.status.busy": "2023-06-11T19:14:31.985498Z",
     "iopub.status.idle": "2023-06-11T19:14:32.336376Z",
     "shell.execute_reply": "2023-06-11T19:14:32.335092Z"
    },
    "papermill": {
     "duration": 0.380781,
     "end_time": "2023-06-11T19:14:32.339915",
     "exception": false,
     "start_time": "2023-06-11T19:14:31.959134",
     "status": "completed"
    },
    "tags": []
   },
   "outputs": [],
   "source": [
    "from kerastuner.tuners import RandomSearch\n",
    "from kerastuner.engine.hyperparameters import HyperParameters"
   ]
  },
  {
   "cell_type": "code",
   "execution_count": 18,
   "id": "e7808a90",
   "metadata": {
    "execution": {
     "iopub.execute_input": "2023-06-11T19:14:32.396625Z",
     "iopub.status.busy": "2023-06-11T19:14:32.395507Z",
     "iopub.status.idle": "2023-06-11T19:14:32.428162Z",
     "shell.execute_reply": "2023-06-11T19:14:32.426362Z"
    },
    "papermill": {
     "duration": 0.063403,
     "end_time": "2023-06-11T19:14:32.430905",
     "exception": false,
     "start_time": "2023-06-11T19:14:32.367502",
     "status": "completed"
    },
    "tags": []
   },
   "outputs": [
    {
     "name": "stdout",
     "output_type": "stream",
     "text": [
      "INFO:tensorflow:Reloading Tuner from project\\Human_activity_recognition\\tuner0.json\n",
      "Search space summary\n",
      "Default search space size: 28\n",
      "num_layers (Int)\n",
      "{'default': None, 'conditions': [], 'min_value': 2, 'max_value': 25, 'step': 1, 'sampling': 'linear'}\n",
      "units0 (Int)\n",
      "{'default': None, 'conditions': [], 'min_value': 32, 'max_value': 512, 'step': 32, 'sampling': 'linear'}\n",
      "initializer (Choice)\n",
      "{'default': 'uniform', 'conditions': [], 'values': ['uniform', 'normal'], 'ordered': False}\n",
      "activation (Choice)\n",
      "{'default': 'relu', 'conditions': [], 'values': ['relu', 'sigmoid', 'tanh'], 'ordered': False}\n",
      "units1 (Int)\n",
      "{'default': None, 'conditions': [], 'min_value': 32, 'max_value': 512, 'step': 32, 'sampling': 'linear'}\n",
      "units2 (Int)\n",
      "{'default': None, 'conditions': [], 'min_value': 32, 'max_value': 512, 'step': 32, 'sampling': 'linear'}\n",
      "units3 (Int)\n",
      "{'default': None, 'conditions': [], 'min_value': 32, 'max_value': 512, 'step': 32, 'sampling': 'linear'}\n",
      "units4 (Int)\n",
      "{'default': None, 'conditions': [], 'min_value': 32, 'max_value': 512, 'step': 32, 'sampling': 'linear'}\n",
      "units5 (Int)\n",
      "{'default': None, 'conditions': [], 'min_value': 32, 'max_value': 512, 'step': 32, 'sampling': 'linear'}\n",
      "units6 (Int)\n",
      "{'default': None, 'conditions': [], 'min_value': 32, 'max_value': 512, 'step': 32, 'sampling': 'linear'}\n",
      "units7 (Int)\n",
      "{'default': None, 'conditions': [], 'min_value': 32, 'max_value': 512, 'step': 32, 'sampling': 'linear'}\n",
      "units8 (Int)\n",
      "{'default': None, 'conditions': [], 'min_value': 32, 'max_value': 512, 'step': 32, 'sampling': 'linear'}\n",
      "units9 (Int)\n",
      "{'default': None, 'conditions': [], 'min_value': 32, 'max_value': 512, 'step': 32, 'sampling': 'linear'}\n",
      "units10 (Int)\n",
      "{'default': None, 'conditions': [], 'min_value': 32, 'max_value': 512, 'step': 32, 'sampling': 'linear'}\n",
      "units11 (Int)\n",
      "{'default': None, 'conditions': [], 'min_value': 32, 'max_value': 512, 'step': 32, 'sampling': 'linear'}\n",
      "units12 (Int)\n",
      "{'default': None, 'conditions': [], 'min_value': 32, 'max_value': 512, 'step': 32, 'sampling': 'linear'}\n",
      "units13 (Int)\n",
      "{'default': None, 'conditions': [], 'min_value': 32, 'max_value': 512, 'step': 32, 'sampling': 'linear'}\n",
      "units14 (Int)\n",
      "{'default': None, 'conditions': [], 'min_value': 32, 'max_value': 512, 'step': 32, 'sampling': 'linear'}\n",
      "units15 (Int)\n",
      "{'default': None, 'conditions': [], 'min_value': 32, 'max_value': 512, 'step': 32, 'sampling': 'linear'}\n",
      "units16 (Int)\n",
      "{'default': None, 'conditions': [], 'min_value': 32, 'max_value': 512, 'step': 32, 'sampling': 'linear'}\n",
      "units17 (Int)\n",
      "{'default': None, 'conditions': [], 'min_value': 32, 'max_value': 512, 'step': 32, 'sampling': 'linear'}\n",
      "units18 (Int)\n",
      "{'default': None, 'conditions': [], 'min_value': 32, 'max_value': 512, 'step': 32, 'sampling': 'linear'}\n",
      "units19 (Int)\n",
      "{'default': None, 'conditions': [], 'min_value': 32, 'max_value': 512, 'step': 32, 'sampling': 'linear'}\n",
      "units20 (Int)\n",
      "{'default': None, 'conditions': [], 'min_value': 32, 'max_value': 512, 'step': 32, 'sampling': 'linear'}\n",
      "units21 (Int)\n",
      "{'default': None, 'conditions': [], 'min_value': 32, 'max_value': 512, 'step': 32, 'sampling': 'linear'}\n",
      "units22 (Int)\n",
      "{'default': None, 'conditions': [], 'min_value': 32, 'max_value': 512, 'step': 32, 'sampling': 'linear'}\n",
      "units23 (Int)\n",
      "{'default': None, 'conditions': [], 'min_value': 32, 'max_value': 512, 'step': 32, 'sampling': 'linear'}\n",
      "units24 (Int)\n",
      "{'default': None, 'conditions': [], 'min_value': 32, 'max_value': 512, 'step': 32, 'sampling': 'linear'}\n"
     ]
    }
   ],
   "source": [
    "def build_model(hp):\n",
    "    model = keras.Sequential()\n",
    "    for i in range(hp.Int('num_layers', 2, 25)):\n",
    "        model.add(layers.Dense(units = hp.Int('units' + str(i), min_value=32, max_value=512, step=32),\n",
    "                               kernel_initializer= hp.Choice('initializer', ['uniform', 'normal']),\n",
    "                               activation= hp.Choice('activation', ['relu', 'sigmoid', 'tanh'])))\n",
    "    model.add(layers.Dense(6, kernel_initializer= hp.Choice('initializer', ['uniform', 'normal']), activation='softmax'))\n",
    "    model.add(\n",
    "            Dropout(0.2))\n",
    "    model.compile(\n",
    "        optimizer = 'adam',\n",
    "        loss='sparse_categorical_crossentropy',\n",
    "        metrics=['accuracy'])\n",
    "    return model\n",
    "\n",
    "\n",
    "tuner = RandomSearch(\n",
    "    build_model,\n",
    "    objective='val_accuracy',\n",
    "    max_trials= 5,\n",
    "    executions_per_trial=3,\n",
    "    directory='project', project_name = 'Human_activity_recognition')\n",
    "\n",
    "tuner.search_space_summary()"
   ]
  },
  {
   "cell_type": "code",
   "execution_count": 19,
   "id": "749750c7",
   "metadata": {
    "execution": {
     "iopub.execute_input": "2023-06-11T19:14:32.483545Z",
     "iopub.status.busy": "2023-06-11T19:14:32.483010Z",
     "iopub.status.idle": "2023-06-11T19:25:16.952622Z",
     "shell.execute_reply": "2023-06-11T19:25:16.951001Z"
    },
    "papermill": {
     "duration": 644.500339,
     "end_time": "2023-06-11T19:25:16.955914",
     "exception": false,
     "start_time": "2023-06-11T19:14:32.455575",
     "status": "completed"
    },
    "tags": []
   },
   "outputs": [
    {
     "name": "stdout",
     "output_type": "stream",
     "text": [
      "INFO:tensorflow:Oracle triggered exit\n"
     ]
    }
   ],
   "source": [
    "tuner.search(x_train, y_train,\n",
    "             epochs= 50,\n",
    "             validation_data=(x_test, y_test))"
   ]
  },
  {
   "cell_type": "code",
   "execution_count": 20,
   "id": "f38472f2",
   "metadata": {
    "execution": {
     "iopub.execute_input": "2023-06-11T19:25:17.012964Z",
     "iopub.status.busy": "2023-06-11T19:25:17.012461Z",
     "iopub.status.idle": "2023-06-11T19:25:17.021952Z",
     "shell.execute_reply": "2023-06-11T19:25:17.020442Z"
    },
    "papermill": {
     "duration": 0.042572,
     "end_time": "2023-06-11T19:25:17.024745",
     "exception": false,
     "start_time": "2023-06-11T19:25:16.982173",
     "status": "completed"
    },
    "tags": []
   },
   "outputs": [
    {
     "name": "stdout",
     "output_type": "stream",
     "text": [
      "Results summary\n",
      "Results in project\\Human_activity_recognition\n",
      "Showing 10 best trials\n",
      "Objective(name=\"val_accuracy\", direction=\"max\")\n",
      "\n",
      "Trial 2 summary\n",
      "Hyperparameters:\n",
      "num_layers: 3\n",
      "units0: 512\n",
      "initializer: normal\n",
      "activation: relu\n",
      "units1: 32\n",
      "units2: 352\n",
      "units3: 64\n",
      "units4: 224\n",
      "units5: 128\n",
      "units6: 224\n",
      "units7: 224\n",
      "units8: 224\n",
      "units9: 224\n",
      "units10: 480\n",
      "units11: 64\n",
      "units12: 192\n",
      "units13: 480\n",
      "units14: 448\n",
      "units15: 448\n",
      "units16: 448\n",
      "units17: 288\n",
      "units18: 416\n",
      "units19: 480\n",
      "units20: 192\n",
      "units21: 32\n",
      "units22: 256\n",
      "units23: 384\n",
      "units24: 160\n",
      "Score: 0.9354145526885986\n",
      "\n",
      "Trial 3 summary\n",
      "Hyperparameters:\n",
      "num_layers: 24\n",
      "units0: 288\n",
      "initializer: normal\n",
      "activation: relu\n",
      "units1: 192\n",
      "units2: 64\n",
      "units3: 512\n",
      "units4: 352\n",
      "units5: 352\n",
      "units6: 224\n",
      "units7: 352\n",
      "units8: 416\n",
      "units9: 288\n",
      "units10: 256\n",
      "units11: 32\n",
      "units12: 256\n",
      "units13: 224\n",
      "units14: 192\n",
      "units15: 224\n",
      "units16: 256\n",
      "units17: 256\n",
      "units18: 192\n",
      "units19: 512\n",
      "units20: 448\n",
      "units21: 64\n",
      "units22: 256\n",
      "units23: 128\n",
      "units24: 128\n",
      "Score: 0.46126004060109455\n",
      "\n",
      "Trial 4 summary\n",
      "Hyperparameters:\n",
      "num_layers: 13\n",
      "units0: 128\n",
      "initializer: uniform\n",
      "activation: sigmoid\n",
      "units1: 480\n",
      "units2: 352\n",
      "units3: 192\n",
      "units4: 512\n",
      "units5: 448\n",
      "units6: 96\n",
      "units7: 64\n",
      "units8: 320\n",
      "units9: 288\n",
      "units10: 192\n",
      "units11: 128\n",
      "units12: 160\n",
      "units13: 160\n",
      "units14: 160\n",
      "units15: 224\n",
      "units16: 224\n",
      "units17: 192\n",
      "units18: 448\n",
      "units19: 32\n",
      "units20: 416\n",
      "units21: 128\n",
      "units22: 384\n",
      "units23: 224\n",
      "units24: 352\n",
      "Score: 0.18221920728683472\n",
      "\n",
      "Trial 1 summary\n",
      "Hyperparameters:\n",
      "num_layers: 25\n",
      "units0: 288\n",
      "initializer: uniform\n",
      "activation: sigmoid\n",
      "units1: 160\n",
      "units2: 512\n",
      "units3: 256\n",
      "units4: 448\n",
      "units5: 128\n",
      "units6: 224\n",
      "units7: 128\n",
      "units8: 256\n",
      "units9: 224\n",
      "units10: 224\n",
      "units11: 384\n",
      "units12: 320\n",
      "units13: 480\n",
      "units14: 96\n",
      "units15: 416\n",
      "units16: 256\n",
      "units17: 128\n",
      "units18: 448\n",
      "units19: 32\n",
      "units20: 256\n",
      "units21: 384\n",
      "units22: 288\n",
      "units23: 32\n",
      "units24: 32\n",
      "Score: 0.18221920728683472\n",
      "\n",
      "Trial 0 summary\n",
      "Hyperparameters:\n",
      "num_layers: 23\n",
      "units0: 224\n",
      "initializer: uniform\n",
      "activation: sigmoid\n",
      "units1: 224\n",
      "units2: 32\n",
      "units3: 32\n",
      "units4: 32\n",
      "units5: 32\n",
      "units6: 32\n",
      "units7: 32\n",
      "units8: 32\n",
      "units9: 32\n",
      "units10: 32\n",
      "units11: 32\n",
      "units12: 32\n",
      "units13: 32\n",
      "units14: 32\n",
      "units15: 32\n",
      "units16: 32\n",
      "units17: 32\n",
      "units18: 32\n",
      "units19: 32\n",
      "units20: 32\n",
      "units21: 32\n",
      "units22: 32\n",
      "Score: 0.18221920728683472\n"
     ]
    }
   ],
   "source": [
    "tuner.results_summary()"
   ]
  },
  {
   "cell_type": "code",
   "execution_count": 21,
   "id": "68ee03ef",
   "metadata": {
    "execution": {
     "iopub.execute_input": "2023-06-11T19:25:17.077875Z",
     "iopub.status.busy": "2023-06-11T19:25:17.077478Z",
     "iopub.status.idle": "2023-06-11T19:25:17.086535Z",
     "shell.execute_reply": "2023-06-11T19:25:17.084818Z"
    },
    "papermill": {
     "duration": 0.039469,
     "end_time": "2023-06-11T19:25:17.089501",
     "exception": false,
     "start_time": "2023-06-11T19:25:17.050032",
     "status": "completed"
    },
    "tags": []
   },
   "outputs": [
    {
     "data": {
      "text/plain": [
       "{'num_layers': 3,\n",
       " 'units0': 512,\n",
       " 'initializer': 'normal',\n",
       " 'activation': 'relu',\n",
       " 'units1': 32,\n",
       " 'units2': 352,\n",
       " 'units3': 64,\n",
       " 'units4': 224,\n",
       " 'units5': 128,\n",
       " 'units6': 224,\n",
       " 'units7': 224,\n",
       " 'units8': 224,\n",
       " 'units9': 224,\n",
       " 'units10': 480,\n",
       " 'units11': 64,\n",
       " 'units12': 192,\n",
       " 'units13': 480,\n",
       " 'units14': 448,\n",
       " 'units15': 448,\n",
       " 'units16': 448,\n",
       " 'units17': 288,\n",
       " 'units18': 416,\n",
       " 'units19': 480,\n",
       " 'units20': 192,\n",
       " 'units21': 32,\n",
       " 'units22': 256,\n",
       " 'units23': 384,\n",
       " 'units24': 160}"
      ]
     },
     "execution_count": 21,
     "metadata": {},
     "output_type": "execute_result"
    }
   ],
   "source": [
    "best_hps=tuner.get_best_hyperparameters(num_trials=1)[0]\n",
    "best_hps.values\n",
    "# best_hps_model = tuner.hypermodel.build(best_hps)"
   ]
  },
  {
   "cell_type": "code",
   "execution_count": 22,
   "id": "185b71c8",
   "metadata": {
    "execution": {
     "iopub.execute_input": "2023-06-11T19:25:17.145505Z",
     "iopub.status.busy": "2023-06-11T19:25:17.145086Z",
     "iopub.status.idle": "2023-06-11T19:29:17.116458Z",
     "shell.execute_reply": "2023-06-11T19:29:17.114762Z"
    },
    "papermill": {
     "duration": 240.00195,
     "end_time": "2023-06-11T19:29:17.119076",
     "exception": false,
     "start_time": "2023-06-11T19:25:17.117126",
     "status": "completed"
    },
    "tags": []
   },
   "outputs": [
    {
     "name": "stdout",
     "output_type": "stream",
     "text": [
      "Epoch 1/30\n",
      "230/230 [==============================] - 8s 16ms/step - loss: 0.7660 - accuracy: 0.7733 - val_loss: 0.9317 - val_accuracy: 0.9016\n",
      "Epoch 2/30\n",
      "230/230 [==============================] - 2s 11ms/step - loss: 0.7681 - accuracy: 0.7761 - val_loss: 0.8392 - val_accuracy: 0.9158\n",
      "Epoch 3/30\n",
      "230/230 [==============================] - 3s 11ms/step - loss: 0.6680 - accuracy: 0.7843 - val_loss: 0.8393 - val_accuracy: 0.9138\n",
      "Epoch 4/30\n",
      "230/230 [==============================] - 3s 11ms/step - loss: 0.6968 - accuracy: 0.7841 - val_loss: 0.5880 - val_accuracy: 0.9372\n",
      "Epoch 5/30\n",
      "230/230 [==============================] - 2s 11ms/step - loss: 0.6847 - accuracy: 0.7840 - val_loss: 0.6581 - val_accuracy: 0.9267\n",
      "Epoch 6/30\n",
      "230/230 [==============================] - 2s 11ms/step - loss: 0.6659 - accuracy: 0.7758 - val_loss: 0.5100 - val_accuracy: 0.9406\n",
      "Epoch 7/30\n",
      "230/230 [==============================] - 2s 11ms/step - loss: 0.7165 - accuracy: 0.7760 - val_loss: 0.4800 - val_accuracy: 0.9454\n",
      "Epoch 8/30\n",
      "230/230 [==============================] - 3s 11ms/step - loss: 0.6479 - accuracy: 0.7843 - val_loss: 0.4857 - val_accuracy: 0.9454\n",
      "Epoch 9/30\n",
      "230/230 [==============================] - 2s 11ms/step - loss: 0.7128 - accuracy: 0.7877 - val_loss: 0.5337 - val_accuracy: 0.9423\n",
      "Epoch 10/30\n",
      "230/230 [==============================] - 2s 11ms/step - loss: 0.6652 - accuracy: 0.7879 - val_loss: 0.4546 - val_accuracy: 0.9542\n",
      "Epoch 11/30\n",
      "230/230 [==============================] - 2s 11ms/step - loss: 0.6917 - accuracy: 0.7875 - val_loss: 0.4402 - val_accuracy: 0.9501\n",
      "Epoch 12/30\n",
      "230/230 [==============================] - 2s 11ms/step - loss: 0.6339 - accuracy: 0.7851 - val_loss: 0.8654 - val_accuracy: 0.9196\n",
      "Epoch 13/30\n",
      "230/230 [==============================] - 3s 11ms/step - loss: 0.6422 - accuracy: 0.7825 - val_loss: 0.4373 - val_accuracy: 0.9460\n",
      "Epoch 14/30\n",
      "230/230 [==============================] - 2s 11ms/step - loss: 0.6702 - accuracy: 0.7818 - val_loss: 0.7744 - val_accuracy: 0.9291\n",
      "Epoch 15/30\n",
      "230/230 [==============================] - 2s 11ms/step - loss: 0.6186 - accuracy: 0.7848 - val_loss: 0.6635 - val_accuracy: 0.9355\n",
      "Epoch 16/30\n",
      "230/230 [==============================] - 2s 11ms/step - loss: 0.5892 - accuracy: 0.7874 - val_loss: 0.6565 - val_accuracy: 0.9399\n",
      "Epoch 17/30\n",
      "230/230 [==============================] - 2s 11ms/step - loss: 0.6141 - accuracy: 0.7937 - val_loss: 0.6500 - val_accuracy: 0.9369\n",
      "Epoch 18/30\n",
      "230/230 [==============================] - 2s 11ms/step - loss: 0.6417 - accuracy: 0.7835 - val_loss: 0.5268 - val_accuracy: 0.9410\n",
      "Epoch 19/30\n",
      "230/230 [==============================] - 2s 11ms/step - loss: 0.5735 - accuracy: 0.7905 - val_loss: 0.8150 - val_accuracy: 0.9220\n",
      "Epoch 20/30\n",
      "230/230 [==============================] - 2s 11ms/step - loss: 0.6516 - accuracy: 0.7862 - val_loss: 0.8020 - val_accuracy: 0.9264\n",
      "Epoch 21/30\n",
      "230/230 [==============================] - 2s 11ms/step - loss: 0.5836 - accuracy: 0.7908 - val_loss: 0.6143 - val_accuracy: 0.9389\n",
      "Epoch 22/30\n",
      "230/230 [==============================] - 2s 10ms/step - loss: 0.5742 - accuracy: 0.7960 - val_loss: 0.5138 - val_accuracy: 0.9437\n",
      "Epoch 23/30\n",
      "230/230 [==============================] - 2s 11ms/step - loss: 0.5563 - accuracy: 0.7928 - val_loss: 0.5055 - val_accuracy: 0.9474\n",
      "Epoch 24/30\n",
      "230/230 [==============================] - 2s 11ms/step - loss: 0.5919 - accuracy: 0.7941 - val_loss: 0.6725 - val_accuracy: 0.9393\n",
      "Epoch 25/30\n",
      "230/230 [==============================] - 2s 11ms/step - loss: 0.6677 - accuracy: 0.7767 - val_loss: 0.4145 - val_accuracy: 0.9552\n",
      "Epoch 26/30\n",
      "230/230 [==============================] - 2s 11ms/step - loss: 0.5571 - accuracy: 0.7927 - val_loss: 0.4979 - val_accuracy: 0.9498\n",
      "Epoch 27/30\n",
      "230/230 [==============================] - 2s 11ms/step - loss: 0.5469 - accuracy: 0.7950 - val_loss: 0.5423 - val_accuracy: 0.9498\n",
      "Epoch 28/30\n",
      "230/230 [==============================] - 3s 11ms/step - loss: 0.6385 - accuracy: 0.7928 - val_loss: 1.4697 - val_accuracy: 0.8761\n",
      "Epoch 29/30\n",
      "230/230 [==============================] - 2s 11ms/step - loss: 0.5178 - accuracy: 0.7961 - val_loss: 0.6232 - val_accuracy: 0.9396\n",
      "Epoch 30/30\n",
      "230/230 [==============================] - 2s 11ms/step - loss: 0.5916 - accuracy: 0.7976 - val_loss: 0.6049 - val_accuracy: 0.9420\n"
     ]
    }
   ],
   "source": [
    "model=tuner.get_best_models(num_models=1)[0]\n",
    "history = model.fit(x_train,y_train, epochs=30, validation_data=(x_test,y_test))"
   ]
  },
  {
   "cell_type": "code",
   "execution_count": 23,
   "id": "985970dc",
   "metadata": {
    "execution": {
     "iopub.execute_input": "2023-06-11T19:29:17.869763Z",
     "iopub.status.busy": "2023-06-11T19:29:17.868892Z",
     "iopub.status.idle": "2023-06-11T19:29:17.897458Z",
     "shell.execute_reply": "2023-06-11T19:29:17.895616Z"
    },
    "papermill": {
     "duration": 0.405088,
     "end_time": "2023-06-11T19:29:17.900071",
     "exception": false,
     "start_time": "2023-06-11T19:29:17.494983",
     "status": "completed"
    },
    "tags": []
   },
   "outputs": [
    {
     "name": "stdout",
     "output_type": "stream",
     "text": [
      "Model: \"sequential\"\n",
      "_________________________________________________________________\n",
      " Layer (type)                Output Shape              Param #   \n",
      "=================================================================\n",
      " dense (Dense)               (None, 512)               287744    \n",
      "                                                                 \n",
      " dense_1 (Dense)             (None, 32)                16416     \n",
      "                                                                 \n",
      " dense_2 (Dense)             (None, 352)               11616     \n",
      "                                                                 \n",
      " dense_3 (Dense)             (None, 6)                 2118      \n",
      "                                                                 \n",
      " dropout (Dropout)           (None, 6)                 0         \n",
      "                                                                 \n",
      "=================================================================\n",
      "Total params: 317,894\n",
      "Trainable params: 317,894\n",
      "Non-trainable params: 0\n",
      "_________________________________________________________________\n"
     ]
    }
   ],
   "source": [
    "model.summary()\n",
    "# import tensorflow as tf\n",
    "# Callback = tf.keras.callbacks.EarlyStopping(monitor='accuracy', patience=3)\n",
    "# mo_fitt = model.fit(x_train,y_train, epochs=200, validation_data=(x_test,y_test), callbacks=Callback)"
   ]
  },
  {
   "attachments": {},
   "cell_type": "markdown",
   "id": "8cc79099",
   "metadata": {
    "papermill": {
     "duration": 0.375524,
     "end_time": "2023-06-11T19:29:18.730025",
     "exception": false,
     "start_time": "2023-06-11T19:29:18.354501",
     "status": "completed"
    },
    "tags": []
   },
   "source": [
    "# Model Performance"
   ]
  },
  {
   "cell_type": "code",
   "execution_count": 24,
   "id": "674d5369",
   "metadata": {
    "execution": {
     "iopub.execute_input": "2023-06-11T19:29:19.494787Z",
     "iopub.status.busy": "2023-06-11T19:29:19.494302Z",
     "iopub.status.idle": "2023-06-11T19:29:19.865682Z",
     "shell.execute_reply": "2023-06-11T19:29:19.864489Z"
    },
    "papermill": {
     "duration": 0.757403,
     "end_time": "2023-06-11T19:29:19.868091",
     "exception": false,
     "start_time": "2023-06-11T19:29:19.110688",
     "status": "completed"
    },
    "tags": []
   },
   "outputs": [
    {
     "data": {
      "text/plain": [
       "Text(0.5, 1.0, 'Training and Validation Accuracy')"
      ]
     },
     "execution_count": 24,
     "metadata": {},
     "output_type": "execute_result"
    },
    {
     "data": {
      "image/png": "[encoded data removed]",
      "text/plain": [
       "<Figure size 1000x1000 with 1 Axes>"
      ]
     },
     "metadata": {},
     "output_type": "display_data"
    }
   ],
   "source": [
    "accuracy = history.history['accuracy']\n",
    "loss = history.history['loss']\n",
    "validation_loss = history.history['val_loss']\n",
    "validation_accuracy = history.history['val_accuracy']\n",
    "# print(f\"Model Accuracy: {accuracy}\\nLoss: {loss}\\nValidation Loss: {validation_loss}\\nValidation Accuracy: {validation_accuracy}\")\n",
    "# plotting model performance\n",
    "plt.figure(figsize=(10, 10))\n",
    "plt.subplot(2, 2, 1)\n",
    "plt.plot(accuracy, label='Training Accuracy')\n",
    "plt.plot(validation_accuracy, label='Validation Accuracy')\n",
    "plt.legend(loc='lower right')\n",
    "plt.title('Training and Validation Accuracy')"
   ]
  },
  {
   "attachments": {},
   "cell_type": "markdown",
   "id": "8023a4ae",
   "metadata": {
    "papermill": {
     "duration": 0.386271,
     "end_time": "2023-06-11T19:29:20.634885",
     "exception": false,
     "start_time": "2023-06-11T19:29:20.248614",
     "status": "completed"
    },
    "tags": []
   },
   "source": [
    "# Saving the Model"
   ]
  },
  {
   "cell_type": "code",
   "execution_count": 25,
   "id": "1b1c5b44",
   "metadata": {
    "execution": {
     "iopub.execute_input": "2023-06-11T19:29:21.477171Z",
     "iopub.status.busy": "2023-06-11T19:29:21.476426Z",
     "iopub.status.idle": "2023-06-11T19:29:21.580330Z",
     "shell.execute_reply": "2023-06-11T19:29:21.579031Z"
    },
    "papermill": {
     "duration": 0.567254,
     "end_time": "2023-06-11T19:29:21.583208",
     "exception": false,
     "start_time": "2023-06-11T19:29:21.015954",
     "status": "completed"
    },
    "tags": []
   },
   "outputs": [],
   "source": [
    "import pickle\n",
    "model_file = \"model.pickle\"\n",
    "with open(model_file,'wb') as f:\n",
    "    pickle.dump(model, f)"
   ]
  },
  {
   "cell_type": "code",
   "execution_count": 26,
   "id": "74966ae0",
   "metadata": {
    "execution": {
     "iopub.execute_input": "2023-06-11T19:29:22.333682Z",
     "iopub.status.busy": "2023-06-11T19:29:22.332959Z",
     "iopub.status.idle": "2023-06-11T19:29:40.098505Z",
     "shell.execute_reply": "2023-06-11T19:29:40.097468Z"
    },
    "papermill": {
     "duration": 18.145453,
     "end_time": "2023-06-11T19:29:40.101454",
     "exception": false,
     "start_time": "2023-06-11T19:29:21.956001",
     "status": "completed"
    },
    "tags": []
   },
   "outputs": [
    {
     "name": "stdout",
     "output_type": "stream",
     "text": [
      "{'loss': 0.7239924669265747, 'accuracy': 0.9348490238189697}\n"
     ]
    },
    {
     "data": {
      "text/plain": [
       "Text(0.5, 1.0, 'Training and Validation Accuracy')"
      ]
     },
     "execution_count": 26,
     "metadata": {},
     "output_type": "execute_result"
    },
    {
     "data": {
      "image/png": "[encoded data removed]",
      "text/plain": [
       "<Figure size 1000x1000 with 1 Axes>"
      ]
     },
     "metadata": {},
     "output_type": "display_data"
    }
   ],
   "source": [
    "# fit the model\n",
    "model_file = \"model.pickle\"\n",
    "model = pickle.load(open(model_file, 'rb'))\n",
    "history = model.fit(x_train, y_train, validation_split=0.3, epochs=10, verbose=0)\n",
    "\n",
    "# evaluate the model\n",
    "print(model.evaluate(x_test, y_test, verbose=0, return_dict=True))\n",
    "# model performance\n",
    "plt.figure(figsize=(10, 10))\n",
    "plt.subplot(2, 2, 1)\n",
    "plt.plot(history.history['accuracy'], label='Training Accuracy')\n",
    "plt.plot(history.history['val_accuracy'], label='Validation Accuracy')\n",
    "plt.legend(loc='lower right')\n",
    "plt.title('Training and Validation Accuracy')"
   ]
  },
  {
   "cell_type": "code",
   "execution_count": null,
   "id": "774d1e90",
   "metadata": {
    "papermill": {
     "duration": 0.37922,
     "end_time": "2023-06-11T19:29:40.860346",
     "exception": false,
     "start_time": "2023-06-11T19:29:40.481126",
     "status": "completed"
    },
    "tags": []
   },
   "outputs": [],
   "source": []
  }
 ],
 "metadata": {
  "kernelspec": {
   "display_name": "Python 3",
   "language": "python",
   "name": "python3"
  },
  "language_info": {
   "codemirror_mode": {
    "name": "ipython",
    "version": 3
   },
   "file_extension": ".py",
   "mimetype": "text/x-python",
   "name": "python",
   "nbconvert_exporter": "python",
   "pygments_lexer": "ipython3",
   "version": "3.10.10"
  },
  "papermill": {
   "default_parameters": {},
   "duration": 964.516947,
   "end_time": "2023-06-11T19:29:44.348269",
   "environment_variables": {},
   "exception": null,
   "input_path": "__notebook__.ipynb",
   "output_path": "__notebook__.ipynb",
   "parameters": {},
   "start_time": "2023-06-11T19:13:39.831322",
   "version": "2.4.0"
  }
 },
 "nbformat": 4,
 "nbformat_minor": 5
}
